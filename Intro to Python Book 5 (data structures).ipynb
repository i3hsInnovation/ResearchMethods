{
 "cells": [
  {
   "cell_type": "markdown",
   "metadata": {},
   "source": [
    "<img src=\"./intro_images/introbanner.png\" width=\"100%\" align=\"left\" />"
   ]
  },
  {
   "cell_type": "markdown",
   "metadata": {},
   "source": [
    "<table style=\"float:right;\">\n",
    "    <tr>\n",
    "        <td>                      \n",
    "            <div style=\"text-align: right\"><a href=\"https://alandavies.netlify.com\" target=\"_blank\">Dr Alan Davies</a></div>\n",
    "            <div style=\"text-align: right\">Lecturer health data science</div>\n",
    "            <div style=\"text-align: right\">University of Manchester</div>\n",
    "         </td>\n",
    "         <td>\n",
    "             <img src=\"./intro_images/alan.png\" width=\"30%\" />\n",
    "         </td>\n",
    "     </tr>\n",
    "</table>"
   ]
  },
  {
   "cell_type": "markdown",
   "metadata": {},
   "source": [
    "# Data Structures\n",
    "****"
   ]
  },
  {
   "cell_type": "markdown",
   "metadata": {},
   "source": [
    "#### About this Notebook\n",
    "This notebook looks at the four in-built data structures in Python of lists, dictionaries, sets and tuples and how to work with them.\n",
    "\n",
    "This notebook is at <code>Beginner</code> level and will take approximately 45 minutes to complete.\n"
   ]
  },
  {
   "cell_type": "markdown",
   "metadata": {},
   "source": [
    "<div class=\"alert alert-block alert-warning\"><b>Learning Objectives:</b> \n",
    "<br/> This notebook will help you start to:\n",
    "    \n",
    "- Express a clear understanding of the basic principles of the Python programming language.\n",
    "\n",
    "</div>"
   ]
  },
  {
   "cell_type": "markdown",
   "metadata": {},
   "source": [
    "So far we have been using simple variables to store single items of data for our programs. Python supports more advanced data structures for storing and organising data. These include **`lists`**, **`tuples`**, **`sets`** and **`dictionaries`**. We will examine each in turn."
   ]
  },
  {
   "cell_type": "markdown",
   "metadata": {},
   "source": [
    "### 1.0 Lists"
   ]
  },
  {
   "cell_type": "markdown",
   "metadata": {},
   "source": [
    "Lists can contain multiple variables. Below we create a list called **`fruit`** and using square brackets we add three items (in this case strings) to the list separated by commas. We can use the **`len()`** function to see how many items (**`elements`**) are contained in our list."
   ]
  },
  {
   "cell_type": "code",
   "execution_count": 1,
   "metadata": {},
   "outputs": [],
   "source": [
    "fruit = ['apple', 'pear', 'banana']"
   ]
  },
  {
   "cell_type": "code",
   "execution_count": 2,
   "metadata": {},
   "outputs": [
    {
     "data": {
      "text/plain": [
       "['apple', 'pear', 'banana']"
      ]
     },
     "execution_count": 2,
     "metadata": {},
     "output_type": "execute_result"
    }
   ],
   "source": [
    "fruit"
   ]
  },
  {
   "cell_type": "code",
   "execution_count": 3,
   "metadata": {},
   "outputs": [
    {
     "data": {
      "text/plain": [
       "3"
      ]
     },
     "execution_count": 3,
     "metadata": {},
     "output_type": "execute_result"
    }
   ],
   "source": [
    "len(fruit)"
   ]
  },
  {
   "cell_type": "markdown",
   "metadata": {},
   "source": [
    "To access the individual elements (items) of our list, we can use the index of the element. "
   ]
  },
  {
   "cell_type": "code",
   "execution_count": 4,
   "metadata": {},
   "outputs": [
    {
     "data": {
      "text/plain": [
       "'apple'"
      ]
     },
     "execution_count": 4,
     "metadata": {},
     "output_type": "execute_result"
    }
   ],
   "source": [
    "fruit[0]"
   ]
  },
  {
   "cell_type": "code",
   "execution_count": 5,
   "metadata": {},
   "outputs": [
    {
     "data": {
      "text/plain": [
       "'pear'"
      ]
     },
     "execution_count": 5,
     "metadata": {},
     "output_type": "execute_result"
    }
   ],
   "source": [
    "fruit[1]"
   ]
  },
  {
   "cell_type": "markdown",
   "metadata": {},
   "source": [
    "<div class=\"alert alert-success\">\n",
    "<b>Note:</b> In Python the first element of a list is <code>0</code> and **not** 1.\n",
    "</div>"
   ]
  },
  {
   "cell_type": "markdown",
   "metadata": {},
   "source": [
    "<img src=\"./intro_images/list.png\" width=\"500\" />"
   ]
  },
  {
   "cell_type": "markdown",
   "metadata": {},
   "source": [
    "The image above shows another way of looking at our fruit list. You can image a list as a series of connected boxes that can contain some data (in this case the names of some fruit). We can now pass this whole list around like a single variable. This is very useful if you want to store a lot of data (for example all the players in a football team or a list of patients having a knee replacement operation). To access the individual data in the boxes you use the index number (the numbers on the bottom of the boxes in the image above starting at 0).  "
   ]
  },
  {
   "cell_type": "markdown",
   "metadata": {},
   "source": [
    "An empty list can be defined by using empty brackets:"
   ]
  },
  {
   "cell_type": "code",
   "execution_count": 7,
   "metadata": {
    "collapsed": true
   },
   "outputs": [],
   "source": [
    "my_list = []"
   ]
  },
  {
   "cell_type": "code",
   "execution_count": 8,
   "metadata": {},
   "outputs": [
    {
     "data": {
      "text/plain": [
       "[]"
      ]
     },
     "execution_count": 8,
     "metadata": {},
     "output_type": "execute_result"
    }
   ],
   "source": [
    "my_list"
   ]
  },
  {
   "cell_type": "code",
   "execution_count": 9,
   "metadata": {},
   "outputs": [
    {
     "data": {
      "text/plain": [
       "0"
      ]
     },
     "execution_count": 9,
     "metadata": {},
     "output_type": "execute_result"
    }
   ],
   "source": [
    "len(my_list)"
   ]
  },
  {
   "cell_type": "markdown",
   "metadata": {},
   "source": [
    "Another useful feature of lists is that each element (box) can contain data of different types. This means we could store a string in index 0, a number in element 1 and even another list or other data structure in another element. For example:"
   ]
  },
  {
   "cell_type": "code",
   "execution_count": 44,
   "metadata": {},
   "outputs": [
    {
     "name": "stdout",
     "output_type": "stream",
     "text": [
      "['some string', 23, 13.3, [1, 2, 5]]\n"
     ]
    }
   ],
   "source": [
    "my_list = ['some string', 23, 13.3, [1, 2, 5]]\n",
    "print(my_list)"
   ]
  },
  {
   "cell_type": "code",
   "execution_count": 45,
   "metadata": {},
   "outputs": [
    {
     "name": "stdout",
     "output_type": "stream",
     "text": [
      "23\n"
     ]
    }
   ],
   "source": [
    "print(my_list[1])"
   ]
  },
  {
   "cell_type": "code",
   "execution_count": 46,
   "metadata": {},
   "outputs": [
    {
     "name": "stdout",
     "output_type": "stream",
     "text": [
      "[1, 2, 5]\n"
     ]
    }
   ],
   "source": [
    "print(my_list[3])"
   ]
  },
  {
   "cell_type": "markdown",
   "metadata": {},
   "source": [
    "We can use the square brackets again to get to an element in our list within a list (nested list), such as the value 2:"
   ]
  },
  {
   "cell_type": "code",
   "execution_count": 47,
   "metadata": {},
   "outputs": [
    {
     "name": "stdout",
     "output_type": "stream",
     "text": [
      "2\n"
     ]
    }
   ],
   "source": [
    "print(my_list[3][1])"
   ]
  },
  {
   "cell_type": "markdown",
   "metadata": {},
   "source": [
    "In this example we get element 3 of **`my_list`** which contains the other list and then element 1 of that list which contains the number 2. This means we can create and store data in more complex structures. "
   ]
  },
  {
   "cell_type": "markdown",
   "metadata": {
    "solution2": "hidden",
    "solution2_first": true
   },
   "source": [
    "<div class=\"alert alert-block alert-info\">\n",
    "<b>Task 1:</b>\n",
    "<br> \n",
    "1. Print the value <code>5</code> contained in element 3 of <code>my_list</code><br>\n",
    "2. What element is the value 13.3 stored at in <code>my_list</code>?\n",
    "</div>"
   ]
  },
  {
   "cell_type": "code",
   "execution_count": 50,
   "metadata": {
    "solution2": "hidden"
   },
   "outputs": [
    {
     "name": "stdout",
     "output_type": "stream",
     "text": [
      "5\n"
     ]
    }
   ],
   "source": [
    "print(my_list[3][2])"
   ]
  },
  {
   "cell_type": "markdown",
   "metadata": {
    "solution2": "hidden"
   },
   "source": [
    "It is stored in element 2"
   ]
  },
  {
   "cell_type": "code",
   "execution_count": null,
   "metadata": {
    "collapsed": true
   },
   "outputs": [],
   "source": []
  },
  {
   "cell_type": "code",
   "execution_count": null,
   "metadata": {
    "collapsed": true
   },
   "outputs": [],
   "source": []
  },
  {
   "cell_type": "markdown",
   "metadata": {},
   "source": [
    "We can add items to the list using the **`append()`** function. In the example below we use this function to add the number 5 to the end of the list."
   ]
  },
  {
   "cell_type": "code",
   "execution_count": 14,
   "metadata": {},
   "outputs": [
    {
     "name": "stdout",
     "output_type": "stream",
     "text": [
      "[1, 2, 3, 4, 5]\n"
     ]
    }
   ],
   "source": [
    "my_list = [1, 2, 3, 4]\n",
    "my_list.append(5)\n",
    "print(my_list)"
   ]
  },
  {
   "cell_type": "markdown",
   "metadata": {},
   "source": [
    "In a similar way we can use the **`del`** keyword to remove an item from the list at a specific element. For example to remove the number 2 from the list:"
   ]
  },
  {
   "cell_type": "code",
   "execution_count": 15,
   "metadata": {},
   "outputs": [
    {
     "name": "stdout",
     "output_type": "stream",
     "text": [
      "[1, 3, 4, 5]\n"
     ]
    }
   ],
   "source": [
    "del my_list[1]\n",
    "print(my_list)"
   ]
  },
  {
   "cell_type": "markdown",
   "metadata": {},
   "source": [
    "We can also return parts of a list using the colon (:) operator. The following examples show how a start index on the left of the colon and an end index can be specified. If no value is used then all values are used:"
   ]
  },
  {
   "cell_type": "code",
   "execution_count": 16,
   "metadata": {},
   "outputs": [
    {
     "name": "stdout",
     "output_type": "stream",
     "text": [
      "[3, 4]\n"
     ]
    }
   ],
   "source": [
    "print(my_list[1:3])"
   ]
  },
  {
   "cell_type": "code",
   "execution_count": 17,
   "metadata": {},
   "outputs": [
    {
     "name": "stdout",
     "output_type": "stream",
     "text": [
      "[3, 4, 5]\n"
     ]
    }
   ],
   "source": [
    "print(my_list[1:])"
   ]
  },
  {
   "cell_type": "code",
   "execution_count": 18,
   "metadata": {},
   "outputs": [
    {
     "name": "stdout",
     "output_type": "stream",
     "text": [
      "[1, 3, 4, 5]\n"
     ]
    }
   ],
   "source": [
    "print(my_list[:])"
   ]
  },
  {
   "cell_type": "code",
   "execution_count": 19,
   "metadata": {},
   "outputs": [
    {
     "name": "stdout",
     "output_type": "stream",
     "text": [
      "[1, 3, 4]\n"
     ]
    }
   ],
   "source": [
    "print(my_list[:3])"
   ]
  },
  {
   "cell_type": "code",
   "execution_count": 20,
   "metadata": {},
   "outputs": [
    {
     "name": "stdout",
     "output_type": "stream",
     "text": [
      "5\n"
     ]
    }
   ],
   "source": [
    "print(my_list[-1])"
   ]
  },
  {
   "cell_type": "markdown",
   "metadata": {},
   "source": [
    "We can also use the plus operator to add lists together:"
   ]
  },
  {
   "cell_type": "code",
   "execution_count": 21,
   "metadata": {},
   "outputs": [
    {
     "data": {
      "text/plain": [
       "[2, 4, 5, 2, 5]"
      ]
     },
     "execution_count": 21,
     "metadata": {},
     "output_type": "execute_result"
    }
   ],
   "source": [
    "[2, 4, 5] + [2, 5]"
   ]
  },
  {
   "cell_type": "markdown",
   "metadata": {},
   "source": [
    "There are many other methods (functions) that can be used with lists. They are used by writing the list name followed by a dot and then the name of the function. Like the **`pop()`** function that removes the last element of a list:"
   ]
  },
  {
   "cell_type": "code",
   "execution_count": 22,
   "metadata": {},
   "outputs": [
    {
     "name": "stdout",
     "output_type": "stream",
     "text": [
      "5\n"
     ]
    }
   ],
   "source": [
    "my_list = [1, 2, 3, 4, 5]\n",
    "print(my_list.pop())"
   ]
  },
  {
   "cell_type": "markdown",
   "metadata": {},
   "source": [
    "Some commonly used list functions:"
   ]
  },
  {
   "cell_type": "markdown",
   "metadata": {},
   "source": [
    "<style type=\"text/css\">\n",
    ".tg  {border-collapse:collapse;border-spacing:0;}\n",
    ".tg td{font-family:Arial, sans-serif;font-size:14px;padding:10px 5px;border-style:solid;border-width:1px;overflow:hidden;word-break:normal;border-color:black;}\n",
    ".tg th{font-family:Arial, sans-serif;font-size:14px;font-weight:normal;padding:10px 5px;border-style:solid;border-width:1px;overflow:hidden;word-break:normal;border-color:black;}\n",
    ".tg .tg-5ua9{font-weight:bold;text-align:left}\n",
    ".tg .tg-s268{text-align:left}\n",
    ".tg .tg-0lax{text-align:left;vertical-align:top}\n",
    "</style>\n",
    "<table class=\"tg\">\n",
    "  <tr>\n",
    "    <th class=\"tg-5ua9\">Function</th>\n",
    "    <th class=\"tg-5ua9\">Description</th>\n",
    "    <th class=\"tg-5ua9\">Example</th>\n",
    "  </tr>\n",
    "  <tr>\n",
    "    <td class=\"tg-5ua9\">append()</td>\n",
    "    <td class=\"tg-s268\">Adds an item to the end of a list</td>\n",
    "    <td class=\"tg-s268\">my_list.append(2)</td>\n",
    "  </tr>\n",
    "  <tr>\n",
    "    <td class=\"tg-s268\">extend()</td>\n",
    "    <td class=\"tg-s268\">Add multiple items to list</td>\n",
    "    <td class=\"tg-s268\">my_list.extend([1,2,4])</td>\n",
    "  </tr>\n",
    "  <tr>\n",
    "    <td class=\"tg-s268\">insert()</td>\n",
    "    <td class=\"tg-s268\">Add an item to list in specific position</td>\n",
    "    <td class=\"tg-s268\">my_list.insert(0, \"Hello\")</td>\n",
    "  </tr>\n",
    "  <tr>\n",
    "    <td class=\"tg-s268\">remove()</td>\n",
    "    <td class=\"tg-s268\">Remove a specified item from a list</td>\n",
    "    <td class=\"tg-s268\">my_list.remove(\"Hello\")</td>\n",
    "  </tr>\n",
    "  <tr>\n",
    "    <td class=\"tg-s268\">pop()</td>\n",
    "    <td class=\"tg-s268\">Remove item from a specified position or the last item if not</td>\n",
    "    <td class=\"tg-s268\">my_list.pop()</td>\n",
    "  </tr>\n",
    "  <tr>\n",
    "    <td class=\"tg-s268\">clear()</td>\n",
    "    <td class=\"tg-s268\">Remove all items in a list</td>\n",
    "    <td class=\"tg-s268\">my_list.clear()</td>\n",
    "  </tr>\n",
    "  <tr>\n",
    "    <td class=\"tg-s268\">index()</td>\n",
    "    <td class=\"tg-s268\">Find the index of an item in a list</td>\n",
    "    <td class=\"tg-s268\">my_list.index(\"Hello\")</td>\n",
    "  </tr>\n",
    "  <tr>\n",
    "    <td class=\"tg-s268\">count()</td>\n",
    "    <td class=\"tg-s268\">Number of times an item appears in a list</td>\n",
    "    <td class=\"tg-s268\">my_list.count(\"apples\")</td>\n",
    "  </tr>\n",
    "  <tr>\n",
    "    <td class=\"tg-s268\">sort()</td>\n",
    "    <td class=\"tg-s268\">Order items in a list (can use reverse=True) to alter order</td>\n",
    "    <td class=\"tg-s268\">my_list.sort()</td>\n",
    "  </tr>\n",
    "  <tr>\n",
    "    <td class=\"tg-s268\">reverse()</td>\n",
    "    <td class=\"tg-s268\">Reverse elements in a list</td>\n",
    "    <td class=\"tg-s268\">my_list.reverse()</td>\n",
    "  </tr>\n",
    "  <tr>\n",
    "    <td class=\"tg-0lax\">copy()</td>\n",
    "    <td class=\"tg-0lax\">Make a copy of a list</td>\n",
    "    <td class=\"tg-0lax\">my_list.copy()</td>\n",
    "  </tr>\n",
    "</table>"
   ]
  },
  {
   "cell_type": "markdown",
   "metadata": {
    "solution2": "hidden",
    "solution2_first": true
   },
   "source": [
    "<div class=\"alert alert-block alert-info\">\n",
    "<b>Task 2:</b>\n",
    "<br> \n",
    "1. Make a new list with at least 5 string items<br>\n",
    "2. Use the <code>sort()</code> function to put your list into order<br>\n",
    "3. Use the <code>pop()</code> function to remove and print the last element of your sorted list\n",
    "</div>"
   ]
  },
  {
   "cell_type": "code",
   "execution_count": 23,
   "metadata": {
    "solution2": "hidden"
   },
   "outputs": [
    {
     "name": "stdout",
     "output_type": "stream",
     "text": [
      "pears\n"
     ]
    }
   ],
   "source": [
    "my_new_list = ['apples', 'oranges', 'bananas', 'pears', 'grapes']\n",
    "my_new_list.sort()\n",
    "print(my_new_list.pop())"
   ]
  },
  {
   "cell_type": "code",
   "execution_count": null,
   "metadata": {
    "collapsed": true
   },
   "outputs": [],
   "source": []
  },
  {
   "cell_type": "markdown",
   "metadata": {},
   "source": [
    "### 2.0 Dictionaries"
   ]
  },
  {
   "cell_type": "markdown",
   "metadata": {},
   "source": [
    "Another useful data structure in Python is a **`dictionary`**. Dictionaries allow multiple data items to be labelled and included in a single data structure. Consider the following example that stores some medical information about a patient:"
   ]
  },
  {
   "cell_type": "markdown",
   "metadata": {},
   "source": [
    "<img src=\"./intro_images/dr.jpg\" width=\"500\" />"
   ]
  },
  {
   "cell_type": "code",
   "execution_count": 2,
   "metadata": {
    "collapsed": true
   },
   "outputs": [],
   "source": [
    "med_data = {\n",
    "    \"name\": \"Mike Smith\",\n",
    "    \"dob\": \"13/12/1979\",\n",
    "    \"age\": 40,\n",
    "    \"NHS number\": 1223322334,\n",
    "    \"BP\": \"120/80\",\n",
    "    \"HR\": 76,\n",
    "    \"PMH\" : [\"diabetes\", \"hypertension\", \"atrial fibrillation\"]\n",
    "}"
   ]
  },
  {
   "cell_type": "code",
   "execution_count": 3,
   "metadata": {},
   "outputs": [
    {
     "name": "stdout",
     "output_type": "stream",
     "text": [
      "{'name': 'Mike Smith', 'dob': '13/12/1979', 'age': 40, 'NHS number': 1223322334, 'BP': '120/80', 'HR': 76, 'PMH': ['diabetes', 'hypertension', 'atrial fibrillation']}\n"
     ]
    }
   ],
   "source": [
    "print(med_data)"
   ]
  },
  {
   "cell_type": "markdown",
   "metadata": {},
   "source": [
    "Here we can store multiple items of information with associated labels in a single data structure (called a **`key value`** pair). The label is placed in quotes followed by a colon and then the variable. Each item is separated by a comma. We can then access each item (value) using its label (key) in similar way to a list but by using the label name i.e:"
   ]
  },
  {
   "cell_type": "code",
   "execution_count": 4,
   "metadata": {},
   "outputs": [
    {
     "name": "stdout",
     "output_type": "stream",
     "text": [
      "120/80\n"
     ]
    }
   ],
   "source": [
    "print(med_data[\"BP\"])"
   ]
  },
  {
   "cell_type": "code",
   "execution_count": 5,
   "metadata": {},
   "outputs": [
    {
     "name": "stdout",
     "output_type": "stream",
     "text": [
      "Mike Smith\n"
     ]
    }
   ],
   "source": [
    "print(med_data[\"name\"])"
   ]
  },
  {
   "cell_type": "code",
   "execution_count": 6,
   "metadata": {},
   "outputs": [
    {
     "name": "stdout",
     "output_type": "stream",
     "text": [
      "['diabetes', 'hypertension', 'atrial fibrillation']\n"
     ]
    }
   ],
   "source": [
    "print(med_data[\"PMH\"])"
   ]
  },
  {
   "cell_type": "code",
   "execution_count": 7,
   "metadata": {},
   "outputs": [
    {
     "name": "stdout",
     "output_type": "stream",
     "text": [
      "atrial fibrillation\n"
     ]
    }
   ],
   "source": [
    "print(med_data[\"PMH\"][2])"
   ]
  },
  {
   "cell_type": "markdown",
   "metadata": {},
   "source": [
    "We can create an empty dictionary by doing either of the following:"
   ]
  },
  {
   "cell_type": "code",
   "execution_count": 8,
   "metadata": {
    "collapsed": true
   },
   "outputs": [],
   "source": [
    "my_dict = {}\n",
    "my_dict = dict()"
   ]
  },
  {
   "cell_type": "code",
   "execution_count": 9,
   "metadata": {},
   "outputs": [
    {
     "data": {
      "text/plain": [
       "dict"
      ]
     },
     "execution_count": 9,
     "metadata": {},
     "output_type": "execute_result"
    }
   ],
   "source": [
    "type(my_dict)"
   ]
  },
  {
   "cell_type": "markdown",
   "metadata": {},
   "source": [
    "We can also change items stored at this label in the same way as a list. For example changing the blood pressure (BP) value:"
   ]
  },
  {
   "cell_type": "code",
   "execution_count": 10,
   "metadata": {},
   "outputs": [
    {
     "name": "stdout",
     "output_type": "stream",
     "text": [
      "{'name': 'Mike Smith', 'dob': '13/12/1979', 'age': 40, 'NHS number': 1223322334, 'BP': '132/76', 'HR': 76, 'PMH': ['diabetes', 'hypertension', 'atrial fibrillation']}\n"
     ]
    }
   ],
   "source": [
    "med_data[\"BP\"] = \"132/76\"\n",
    "print(med_data)"
   ]
  },
  {
   "cell_type": "markdown",
   "metadata": {
    "solution2": "hidden",
    "solution2_first": true
   },
   "source": [
    "<div class=\"alert alert-block alert-info\">\n",
    "<b>Task 3:</b>\n",
    "<br> \n",
    "1. Add the medical condition <code>irritable bowel syndrome (IBS)</code> to the past medical history <code>(PMH)</code> in the dictionary and print the result\n",
    "</div>"
   ]
  },
  {
   "cell_type": "code",
   "execution_count": 11,
   "metadata": {
    "solution2": "hidden"
   },
   "outputs": [
    {
     "name": "stdout",
     "output_type": "stream",
     "text": [
      "{'name': 'Mike Smith', 'dob': '13/12/1979', 'age': 40, 'NHS number': 1223322334, 'BP': '132/76', 'HR': 76, 'PMH': ['diabetes', 'hypertension', 'atrial fibrillation', 'IBS']}\n"
     ]
    }
   ],
   "source": [
    "med_data[\"PMH\"].append(\"IBS\")\n",
    "print(med_data)"
   ]
  },
  {
   "cell_type": "code",
   "execution_count": null,
   "metadata": {
    "collapsed": true
   },
   "outputs": [],
   "source": []
  },
  {
   "cell_type": "markdown",
   "metadata": {},
   "source": [
    "### 3.0 Sets"
   ]
  },
  {
   "cell_type": "markdown",
   "metadata": {},
   "source": [
    "A set in mathematics is an unordered collection of distinct objects represented by comma separated items called elements enclosed in curly brackets. Elements of a set share some common property (i.e. a set of clothes, prime numbers etc.)"
   ]
  },
  {
   "cell_type": "markdown",
   "metadata": {},
   "source": [
    "$$A = \\{1, 2, 3, 4\\} $$"
   ]
  },
  {
   "cell_type": "markdown",
   "metadata": {},
   "source": [
    "If an element is in a set we would write $2 \\in A$. If an element was not in a set it would be $27 \\notin A$. Sets can be created either by using the curly brackets in the same way as they would be written in math notation (**`A`**). Or by using the set constructor (**`B`**). "
   ]
  },
  {
   "cell_type": "code",
   "execution_count": 34,
   "metadata": {},
   "outputs": [
    {
     "name": "stdout",
     "output_type": "stream",
     "text": [
      "<class 'set'>\n"
     ]
    }
   ],
   "source": [
    "A = {1, 2, 3, 4}\n",
    "print(type(A))"
   ]
  },
  {
   "cell_type": "code",
   "execution_count": 35,
   "metadata": {},
   "outputs": [
    {
     "name": "stdout",
     "output_type": "stream",
     "text": [
      "<class 'set'>\n"
     ]
    }
   ],
   "source": [
    "B = set((\"dog\", \"cat\", \"pig\"))\n",
    "print(type(B))"
   ]
  },
  {
   "cell_type": "markdown",
   "metadata": {},
   "source": [
    "We can use the keywords **`in`** and **`not in`** in the same was $\\in$ and $\\notin$."
   ]
  },
  {
   "cell_type": "code",
   "execution_count": 36,
   "metadata": {},
   "outputs": [
    {
     "name": "stdout",
     "output_type": "stream",
     "text": [
      "True\n",
      "True\n"
     ]
    }
   ],
   "source": [
    "print(2 in A)\n",
    "print(27 not in A)"
   ]
  },
  {
   "cell_type": "code",
   "execution_count": 37,
   "metadata": {},
   "outputs": [
    {
     "name": "stdout",
     "output_type": "stream",
     "text": [
      "{1, 2, 3, 4}\n",
      "<class 'set'>\n"
     ]
    }
   ],
   "source": [
    "C = {1, 2, 3, 4, 1, 2}\n",
    "print(C)\n",
    "print(type(C))"
   ]
  },
  {
   "cell_type": "markdown",
   "metadata": {
    "solution2": "hidden",
    "solution2_first": true
   },
   "source": [
    "<div class=\"alert alert-block alert-info\">\n",
    "<b>Task 4:</b>\n",
    "<br> \n",
    "What happened in the cell above? Why does it only show <code>1, 2, 3, 4</code>?\n",
    "</div>"
   ]
  },
  {
   "cell_type": "markdown",
   "metadata": {
    "solution2": "hidden"
   },
   "source": [
    "Remember sets must contain distinct elements so the duplicates are ignored. "
   ]
  },
  {
   "cell_type": "markdown",
   "metadata": {},
   "source": [
    "There are several useful functions for working with sets, including:"
   ]
  },
  {
   "cell_type": "markdown",
   "metadata": {},
   "source": [
    "<style type=\"text/css\">\n",
    ".tg  {border-collapse:collapse;border-spacing:0;}\n",
    ".tg td{font-family:Arial, sans-serif;font-size:14px;padding:10px 5px;border-style:solid;border-width:1px;overflow:hidden;word-break:normal;border-color:black;}\n",
    ".tg th{font-family:Arial, sans-serif;font-size:14px;font-weight:normal;padding:10px 5px;border-style:solid;border-width:1px;overflow:hidden;word-break:normal;border-color:black;}\n",
    ".tg .tg-5ua9{font-weight:bold;text-align:left}\n",
    ".tg .tg-s268{text-align:left}\n",
    ".tg .tg-0lax{text-align:left;vertical-align:top}\n",
    "</style>\n",
    "<table class=\"tg\">\n",
    "  <tr>\n",
    "    <th class=\"tg-5ua9\">Function</th>\n",
    "    <th class=\"tg-5ua9\">Description</th>\n",
    "    <th class=\"tg-5ua9\">Example</th>\n",
    "  </tr>\n",
    "  <tr>\n",
    "    <td class=\"tg-5ua9\">clear()</td>\n",
    "    <td class=\"tg-s268\">Removes all set elements</td>\n",
    "    <td class=\"tg-s268\">my_set.clear()</td>\n",
    "  </tr>\n",
    "  <tr>\n",
    "    <td class=\"tg-s268\">add()</td>\n",
    "    <td class=\"tg-s268\">Add item to set</td>\n",
    "    <td class=\"tg-s268\">my_set.add(1)</td>\n",
    "  </tr>\n",
    "  <tr>\n",
    "    <td class=\"tg-s268\">copy()</td>\n",
    "    <td class=\"tg-s268\">Returns copy of a set</td>\n",
    "    <td class=\"tg-s268\">B = my_set.copy(A)</td>\n",
    "  </tr>\n",
    "  <tr>\n",
    "    <td class=\"tg-s268\">remove()</td>\n",
    "    <td class=\"tg-s268\">Remove a specified element from a set</td>\n",
    "    <td class=\"tg-s268\">my_set.remove(\"apple\")</td>\n",
    "  </tr>\n",
    "  <tr>\n",
    "    <td class=\"tg-s268\">pop()</td>\n",
    "    <td class=\"tg-s268\">Remove element from set</td>\n",
    "    <td class=\"tg-s268\">my_set.pop()</td>\n",
    "  </tr>\n",
    "  <tr>\n",
    "    <td class=\"tg-s268\">discard()</td>\n",
    "    <td class=\"tg-s268\">Remove specified item from set</td>\n",
    "    <td class=\"tg-s268\">my_set.discard(\"apple\")</td>\n",
    "  </tr>\n",
    "  <tr>\n",
    "    <td class=\"tg-s268\">difference()</td>\n",
    "    <td class=\"tg-s268\">A set with the difference between sets</td>\n",
    "    <td class=\"tg-s268\">A = B.difference(C)</td>\n",
    "  </tr>\n",
    "  <tr>\n",
    "    <td class=\"tg-s268\">union()</td>\n",
    "    <td class=\"tg-s268\">A set with a union of sets</td>\n",
    "    <td class=\"tg-s268\">A = B.union(C)</td>\n",
    "  </tr>\n",
    "  <tr>\n",
    "    <td class=\"tg-s268\">issubset()</td>\n",
    "    <td class=\"tg-s268\">Returns T or F if a set is contained within another</td>\n",
    "    <td class=\"tg-s268\">A = B.issibset(C)</td>\n",
    "  </tr>\n",
    "  <tr>\n",
    "    <td class=\"tg-s268\">intersection()</td>\n",
    "    <td class=\"tg-s268\">Return set where items exist in both sets</td>\n",
    "    <td class=\"tg-s268\">A = B.intersection(C)</td>\n",
    "  </tr>\n",
    "  <tr>\n",
    "    <td class=\"tg-0lax\">isdisjoint()</td>\n",
    "    <td class=\"tg-0lax\">Return T or F if sets have an intersection</td>\n",
    "    <td class=\"tg-0lax\">A = B.isdisjoint(C) </td>\n",
    "  </tr>\n",
    "</table>"
   ]
  },
  {
   "cell_type": "markdown",
   "metadata": {},
   "source": [
    "\n",
    "### 4.0 Tuples"
   ]
  },
  {
   "cell_type": "markdown",
   "metadata": {},
   "source": [
    "Similar to sets, Python also supports **`tuples`**. A tuple is an ordered and immutable (unchangeable) finite collection. Items cannot be added or removed from tuples. In math notation tuples are usually placed within round or pointed brackets $(1, 2, 3, 4)$ or $<1, 2, 3 ,4>$. In Python they can be created in 2 ways, with round brackets or with the tuple constructor.  "
   ]
  },
  {
   "cell_type": "code",
   "execution_count": 38,
   "metadata": {},
   "outputs": [
    {
     "name": "stdout",
     "output_type": "stream",
     "text": [
      "(1, 2, 3, 4)\n",
      "<class 'tuple'>\n"
     ]
    }
   ],
   "source": [
    "my_tuple = (1, 2, 3, 4)\n",
    "print(my_tuple)\n",
    "print(type(my_tuple))"
   ]
  },
  {
   "cell_type": "code",
   "execution_count": 39,
   "metadata": {},
   "outputs": [
    {
     "name": "stdout",
     "output_type": "stream",
     "text": [
      "(1, 2, 3, 4, 1)\n",
      "<class 'tuple'>\n"
     ]
    }
   ],
   "source": [
    "another_tuple = tuple((1, 2, 3, 4, 1))\n",
    "print(another_tuple)\n",
    "print(type(another_tuple))"
   ]
  },
  {
   "cell_type": "markdown",
   "metadata": {},
   "source": [
    "<div class=\"alert alert-success\">\n",
    "<b>Note:</b> Tuples can have repeated elements unlike sets. But why use them? If you are ever using a set of values that don't change (constants) then tuples are faster (more efficient) than lists. They are also safer because they can't be changed. It is impossible to overwrite or add/remove elements by accident.\n",
    "</div>"
   ]
  },
  {
   "cell_type": "code",
   "execution_count": null,
   "metadata": {
    "collapsed": true
   },
   "outputs": [],
   "source": []
  },
  {
   "cell_type": "markdown",
   "metadata": {},
   "source": [
    "#### Notebook details\n",
    "<br>\n",
    "<i>Notebook created by <strong>Dr. Alan Davies</strong> with, <strong>Frances Hooley</strong> \n",
    "    \n",
    "\n",
    "Publish date: October 2020<br>\n",
    "Review date: October 2021</i>\n",
    "\n",
    "Please give your feedback using the button below:"
   ]
  },
  {
   "cell_type": "markdown",
   "metadata": {},
   "source": [
    "<a class=\"typeform-share button\" href=\"https://form.typeform.com/to/YMpwLTNy\" data-mode=\"popup\" style=\"display:inline-block;text-decoration:none;background-color:#3A7685;color:white;cursor:pointer;font-family:Helvetica,Arial,sans-serif;font-size:18px;line-height:45px;text-align:center;margin:0;height:45px;padding:0px 30px;border-radius:22px;max-width:100%;white-space:nowrap;overflow:hidden;text-overflow:ellipsis;font-weight:bold;-webkit-font-smoothing:antialiased;-moz-osx-font-smoothing:grayscale;\" target=\"_blank\">Rate this notebook </a> <script> (function() { var qs,js,q,s,d=document, gi=d.getElementById, ce=d.createElement, gt=d.getElementsByTagName, id=\"typef_orm_share\", b=\"https://embed.typeform.com/\"; if(!gi.call(d,id)){ js=ce.call(d,\"script\"); js.id=id; js.src=b+\"embed.js\"; q=gt.call(d,\"script\")[0]; q.parentNode.insertBefore(js,q) } })() </script>"
   ]
  },
  {
   "cell_type": "code",
   "execution_count": null,
   "metadata": {},
   "outputs": [],
   "source": []
  }
 ],
 "metadata": {
  "hide_input": false,
  "kernelspec": {
   "display_name": "Python 3",
   "language": "python",
   "name": "python3"
  },
  "language_info": {
   "codemirror_mode": {
    "name": "ipython",
    "version": 3
   },
   "file_extension": ".py",
   "mimetype": "text/x-python",
   "name": "python",
   "nbconvert_exporter": "python",
   "pygments_lexer": "ipython3",
   "version": "3.7.3"
  }
 },
 "nbformat": 4,
 "nbformat_minor": 2
}
