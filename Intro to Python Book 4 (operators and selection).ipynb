{
 "cells": [
  {
   "cell_type": "markdown",
   "metadata": {},
   "source": [
    "<img src=\"./intro_images/introbanner.png\" width=\"100%\" align=\"left\" />"
   ]
  },
  {
   "cell_type": "markdown",
   "metadata": {},
   "source": [
    "<table style=\"float:right;\">\n",
    "    <tr>\n",
    "        <td>                      \n",
    "            <div style=\"text-align: right\"><a href=\"https://alandavies.netlify.com\" target=\"_blank\">Dr Alan Davies</a></div>\n",
    "            <div style=\"text-align: right\">Lecturer health data science</div>\n",
    "            <div style=\"text-align: right\">University of Manchester</div>\n",
    "         </td>\n",
    "         <td>\n",
    "             <img src=\"./intro_images/alan.png\" width=\"30%\" />\n",
    "         </td>\n",
    "     </tr>\n",
    "</table>"
   ]
  },
  {
   "cell_type": "markdown",
   "metadata": {},
   "source": [
    "# Operators and Selection \n",
    "****"
   ]
  },
  {
   "cell_type": "markdown",
   "metadata": {},
   "source": [
    "#### About this Notebook\n",
    "This notebook introduces the use of operators which help perform arithmetic or logical computational tasks in your coding. It will also explore the use of operators to make decisions (or Selections) in our coding.\n",
    "\n",
    "\n",
    "This notebook is at <code>Beginner</code> level and will take approximately 30 minutes to complete."
   ]
  },
  {
   "cell_type": "markdown",
   "metadata": {},
   "source": [
    "<div class=\"alert alert-block alert-warning\"><b>Learning Objectives:</b> \n",
    "<br/> This notebook will help you start to:\n",
    "    \n",
    "- Express a clear understanding of the basic principles of the Python programming language.\n",
    "\n",
    "</div>"
   ]
  },
  {
   "cell_type": "markdown",
   "metadata": {},
   "source": [
    "To carry out computational tasks, Python (and all other high level programming languages) use operators. These operators can be broadly split into ones used for arithmetic, comparison (comparing things) and logic for making choices. The arithmetic operators allow basic mathematical tasks to be carried out, like addition and subtraction and can be combined to make more complex statements just as in maths. For example:"
   ]
  },
  {
   "cell_type": "code",
   "execution_count": 2,
   "metadata": {},
   "outputs": [
    {
     "name": "stdout",
     "output_type": "stream",
     "text": [
      "50\n"
     ]
    }
   ],
   "source": [
    "some_number = 20\n",
    "some_other_number = 30\n",
    "print(some_number + some_other_number)"
   ]
  },
  {
   "cell_type": "code",
   "execution_count": 3,
   "metadata": {},
   "outputs": [
    {
     "name": "stdout",
     "output_type": "stream",
     "text": [
      "53\n"
     ]
    }
   ],
   "source": [
    "print(some_number + some_other_number - 5 + 8)"
   ]
  },
  {
   "cell_type": "markdown",
   "metadata": {},
   "source": [
    "One issue to be aware of in computation is **`division by zero`**. This is where a value is divided by zero ($ a \\div 0$). This always causes an error in programing as the expression has no meaning. This can happen often by accident if the variable you are dividing by contains zero. For example: "
   ]
  },
  {
   "cell_type": "code",
   "execution_count": 7,
   "metadata": {},
   "outputs": [
    {
     "ename": "ZeroDivisionError",
     "evalue": "division by zero",
     "output_type": "error",
     "traceback": [
      "\u001b[1;31m---------------------------------------------------------------------------\u001b[0m",
      "\u001b[1;31mZeroDivisionError\u001b[0m                         Traceback (most recent call last)",
      "\u001b[1;32m<ipython-input-7-112139fc6224>\u001b[0m in \u001b[0;36m<module>\u001b[1;34m()\u001b[0m\n\u001b[0;32m      1\u001b[0m \u001b[0ma\u001b[0m \u001b[1;33m=\u001b[0m \u001b[1;36m8\u001b[0m\u001b[1;33m\u001b[0m\u001b[0m\n\u001b[1;32m----> 2\u001b[1;33m \u001b[0ma\u001b[0m \u001b[1;33m/\u001b[0m \u001b[1;36m0\u001b[0m\u001b[1;33m\u001b[0m\u001b[0m\n\u001b[0m",
      "\u001b[1;31mZeroDivisionError\u001b[0m: division by zero"
     ]
    }
   ],
   "source": [
    "a = 8\n",
    "a / 0"
   ]
  },
  {
   "cell_type": "markdown",
   "metadata": {},
   "source": [
    "his triggered a **`ZeroDivisionError`**. To see how to handle errors like this, have a look at the book on Testing and error handing later in the series."
   ]
  },
  {
   "cell_type": "markdown",
   "metadata": {},
   "source": [
    "### 1.0 Arithmetic operators"
   ]
  },
  {
   "cell_type": "markdown",
   "metadata": {},
   "source": [
    "<style type=\"text/css\">\n",
    ".tg  {border-collapse:collapse;border-spacing:0;}\n",
    ".tg td{font-family:Arial, sans-serif;font-size:14px;padding:10px 5px;border-style:solid;border-width:1px;overflow:hidden;word-break:normal;border-color:black;}\n",
    ".tg th{font-family:Arial, sans-serif;font-size:14px;font-weight:normal;padding:10px 5px;border-style:solid;border-width:1px;overflow:hidden;word-break:normal;border-color:black;}\n",
    ".tg .tg-kiyi{font-weight:bold;border-color:inherit;text-align:left}\n",
    ".tg .tg-fymr{font-weight:bold;border-color:inherit;text-align:left;vertical-align:top}\n",
    ".tg .tg-xldj{border-color:inherit;text-align:left}\n",
    ".tg .tg-0pky{border-color:inherit;text-align:left;vertical-align:top}\n",
    "</style>\n",
    "<table class=\"tg\">\n",
    "  <tr>\n",
    "    <th class=\"tg-kiyi\">Example</th>\n",
    "    <th class=\"tg-kiyi\">Meaning</th>\n",
    "    <th class=\"tg-fymr\">Math</th>\n",
    "    <th class=\"tg-kiyi\">Description</th>\n",
    "  </tr>\n",
    "  <tr>\n",
    "    <td class=\"tg-xldj\">a + b</td>\n",
    "    <td class=\"tg-xldj\">Addition</td>\n",
    "    <td class=\"tg-0pky\">a + b</td>\n",
    "    <td class=\"tg-xldj\">Sums values</td>\n",
    "  </tr>\n",
    "  <tr>\n",
    "    <td class=\"tg-xldj\">a - b</td>\n",
    "    <td class=\"tg-xldj\">Subtraction</td>\n",
    "    <td class=\"tg-0pky\">a - b</td>\n",
    "    <td class=\"tg-xldj\">Subtracts second number from first</td>\n",
    "  </tr>\n",
    "  <tr>\n",
    "    <td class=\"tg-xldj\">a $\\text{*}$ b</td>\n",
    "    <td class=\"tg-xldj\">Multiplication</td>\n",
    "    <td class=\"tg-0pky\">a $\\times$ b</td>\n",
    "    <td class=\"tg-xldj\">Multiplies values (product)</td>\n",
    "  </tr>\n",
    "  <tr>\n",
    "    <td class=\"tg-xldj\">a / b</td>\n",
    "    <td class=\"tg-xldj\">Division</td>\n",
    "    <td class=\"tg-0pky\">a $\\div$ b</td>\n",
    "    <td class=\"tg-xldj\">Divides a by b</td>\n",
    "  </tr>\n",
    "  <tr>\n",
    "    <td class=\"tg-0pky\">a % b</td>\n",
    "    <td class=\"tg-0pky\">Modulo</td>\n",
    "    <td class=\"tg-0pky\">mod</td>\n",
    "    <td class=\"tg-0pky\">The remainder of a division</td>\n",
    "  </tr>\n",
    "  <tr>\n",
    "    <td class=\"tg-0pky\">a // b</td>\n",
    "    <td class=\"tg-0pky\">Floor division</td>\n",
    "    <td class=\"tg-0pky\">floor()</td>\n",
    "    <td class=\"tg-0pky\">Division rounded to smallest integer</td>\n",
    "  </tr>\n",
    "  <tr>\n",
    "    <td class=\"tg-0pky\">a ** b</td>\n",
    "    <td class=\"tg-0pky\">Exponentiation</td>\n",
    "    <td class=\"tg-0pky\">$a^b$</td>\n",
    "    <td class=\"tg-0pky\">Raises a to power of b</td>\n",
    "  </tr>\n",
    "</table>"
   ]
  },
  {
   "cell_type": "markdown",
   "metadata": {},
   "source": [
    "The table above shows the arithmetic operators along with a description. Most of these should be fairly straight forward if you are familiar with high school level maths. We will take a closer look at the **`mod`** operator as this may be one that is less familiar to some. This will give use the remainder of a division and can be useful for many things. One obvious example is to see if a number is odd or even. "
   ]
  },
  {
   "cell_type": "code",
   "execution_count": 13,
   "metadata": {},
   "outputs": [
    {
     "data": {
      "text/plain": [
       "0"
      ]
     },
     "execution_count": 13,
     "metadata": {},
     "output_type": "execute_result"
    }
   ],
   "source": [
    "num = 2\n",
    "num % 2"
   ]
  },
  {
   "cell_type": "markdown",
   "metadata": {},
   "source": [
    "An even number will give a zero answer and an odd number will not."
   ]
  },
  {
   "cell_type": "code",
   "execution_count": 14,
   "metadata": {},
   "outputs": [
    {
     "data": {
      "text/plain": [
       "1"
      ]
     },
     "execution_count": 14,
     "metadata": {},
     "output_type": "execute_result"
    }
   ],
   "source": [
    "num = 9\n",
    "num % 2"
   ]
  },
  {
   "cell_type": "markdown",
   "metadata": {
    "solution2": "hidden",
    "solution2_first": true
   },
   "source": [
    "<div class=\"alert alert-block alert-info\">\n",
    "<b>Task 1:</b>\n",
    "<br> \n",
    "Here is the formular for converting degrees from farenheit to celcius:\n",
    "$$ c = \\frac{5}{9}(f-32) $$\n",
    "Try and use the math operators to write this formular in Python. To test it works try giving <b>f</b> the value of <b>32</b>. This should be around <b>0</b> in $ ^{\\circ}$C.\n",
    "</div>"
   ]
  },
  {
   "cell_type": "code",
   "execution_count": null,
   "metadata": {
    "collapsed": true,
    "solution2": "hidden"
   },
   "outputs": [],
   "source": [
    "f = 32\n",
    "c = (f-32)*5/9\n",
    "print(c)"
   ]
  },
  {
   "cell_type": "code",
   "execution_count": null,
   "metadata": {
    "collapsed": true
   },
   "outputs": [],
   "source": []
  },
  {
   "cell_type": "markdown",
   "metadata": {},
   "source": [
    "#### 1.2 Logical operators"
   ]
  },
  {
   "cell_type": "markdown",
   "metadata": {},
   "source": [
    "When we have <b>`True`</b> or <b>`False`</b> expressions (called Boolean objects or expressions), we can evaluate them using logical operators. We can do this in programs to make choices. For example if you wanted to decide to take an umbrella with you or not, you may look out of the window and ask \"is it raining?\". If the answer is Yes (True) you would take your umbrella. If however the answer was No (False) you would not. More complex choices can be made by chaining these logical operators together. For example <b>if it is raining and I own an umbrella then take it.</b>. First lets look at the logical operators and then see how we can use them to preform <b>`selection`</b>."
   ]
  },
  {
   "cell_type": "markdown",
   "metadata": {},
   "source": [
    "<style type=\"text/css\">\n",
    ".tg  {border-collapse:collapse;border-spacing:0;}\n",
    ".tg td{font-family:Arial, sans-serif;font-size:14px;padding:10px 5px;border-style:solid;border-width:1px;overflow:hidden;word-break:normal;border-color:black;}\n",
    ".tg th{font-family:Arial, sans-serif;font-size:14px;font-weight:normal;padding:10px 5px;border-style:solid;border-width:1px;overflow:hidden;word-break:normal;border-color:black;}\n",
    ".tg .tg-kiyi{font-weight:bold;border-color:inherit;text-align:left}\n",
    ".tg .tg-fymr{font-weight:bold;border-color:inherit;text-align:left;vertical-align:top}\n",
    ".tg .tg-xldj{border-color:inherit;text-align:left}\n",
    ".tg .tg-0pky{border-color:inherit;text-align:left;vertical-align:top}\n",
    "</style>\n",
    "<table class=\"tg\">\n",
    "  <tr>\n",
    "    <th class=\"tg-kiyi\">Example</th>\n",
    "    <th class=\"tg-kiyi\">Meaning</th>\n",
    "    <th class=\"tg-fymr\">Math</th>\n",
    "    <th class=\"tg-kiyi\">Description</th>\n",
    "  </tr>\n",
    "  <tr>\n",
    "    <td class=\"tg-xldj\">not a</td>\n",
    "    <td class=\"tg-xldj\">Not</td>\n",
    "    <td class=\"tg-0pky\">$\\lnot a$, $\\bar{a}$</td>\n",
    "    <td class=\"tg-xldj\">Reverses value of a. If True becomes False and vise versa</td>\n",
    "  </tr>\n",
    "  <tr>\n",
    "    <td class=\"tg-xldj\">a and b</td>\n",
    "    <td class=\"tg-xldj\">And</td>\n",
    "    <td class=\"tg-0pky\">$a \\land b$, $a \\cap b$</td>\n",
    "    <td class=\"tg-xldj\">This is True if a and b are True</td>\n",
    "  </tr>\n",
    "  <tr>\n",
    "    <td class=\"tg-xldj\">a or b</td>\n",
    "    <td class=\"tg-xldj\">Or</td>\n",
    "    <td class=\"tg-0pky\">$a \\lor b$, $a \\cup b$</td>\n",
    "    <td class=\"tg-xldj\">This is True is either a or b are True</td>\n",
    "  </tr>\n",
    "</table>"
   ]
  },
  {
   "cell_type": "markdown",
   "metadata": {},
   "source": [
    "Another way of visualising this is with a <b>`venn`</b> diagram. The image below shows what this looks like for <b>`and`</b> and <b>`or`</b>. "
   ]
  },
  {
   "cell_type": "markdown",
   "metadata": {},
   "source": [
    "<img src=\"./intro_images/fig2.png\" width=\"250\" />"
   ]
  },
  {
   "cell_type": "markdown",
   "metadata": {},
   "source": [
    "### 2.0 Selection"
   ]
  },
  {
   "cell_type": "markdown",
   "metadata": {},
   "source": [
    "We can combine these operators to make decisions in our programs. This is one of the main purposes of computer programs, the ability to do different things based on its input. Here we can see some examples of how we can make choices using these operators and the keywords <b>`if`</b> and <b>`else`</b>. "
   ]
  },
  {
   "cell_type": "code",
   "execution_count": 17,
   "metadata": {},
   "outputs": [
    {
     "name": "stdout",
     "output_type": "stream",
     "text": [
      "Let's go\n"
     ]
    }
   ],
   "source": [
    "raining = False\n",
    "\n",
    "if raining == True:\n",
    "    print(\"Need to take umbrella\")\n",
    "else:\n",
    "    print(\"Let's go\")"
   ]
  },
  {
   "cell_type": "markdown",
   "metadata": {},
   "source": [
    "There are a few new things here to pay attention to. First we define a variable called <b>`raining`</b> and set it to <b>`False`</b>. Then we ask a question (is it raining?). This line ends with a colon (:). This tells Python that the preceding  code which is indented (moved in) belongs, or is contained within the line with the colon. This means that the line <b>`print(\"Need to take umbrella\")`</b> will only be executed if the value of raining is <b>`True`</b>. The <b>`else`</b> keyword describes what happens if the initial condition is not met. i.e. if raining is <b>`False`</b>. "
   ]
  },
  {
   "cell_type": "markdown",
   "metadata": {},
   "source": [
    "<div class=\"alert alert-success\">\n",
    "<b>Note:</b> It is not mandatory to have an <code>else</code> statement.  \n",
    "</div>"
   ]
  },
  {
   "cell_type": "markdown",
   "metadata": {
    "solution2": "hidden",
    "solution2_first": true
   },
   "source": [
    "<div class=\"alert alert-block alert-info\">\n",
    "<b>Task 2:</b>\n",
    "<br> \n",
    "Change the value of <code>raining</code> from <code>False</code> to <code>True</code> and run the code in the cell above again.\n",
    "</div>"
   ]
  },
  {
   "cell_type": "code",
   "execution_count": 19,
   "metadata": {
    "solution2": "hidden"
   },
   "outputs": [
    {
     "name": "stdout",
     "output_type": "stream",
     "text": [
      "Need to take umbrella\n"
     ]
    }
   ],
   "source": [
    "raining = True\n",
    "\n",
    "if raining == True:\n",
    "    print(\"Need to take umbrella\")\n",
    "else:\n",
    "    print(\"Let's go\")"
   ]
  },
  {
   "cell_type": "code",
   "execution_count": null,
   "metadata": {
    "collapsed": true
   },
   "outputs": [],
   "source": []
  },
  {
   "cell_type": "markdown",
   "metadata": {},
   "source": [
    "If we want multiple alternative conditions to be checked we can use the <b>`elif`</b> (else if) keyword. Below we have several statements combined with the <b>`and`</b> operator. "
   ]
  },
  {
   "cell_type": "code",
   "execution_count": 20,
   "metadata": {},
   "outputs": [
    {
     "name": "stdout",
     "output_type": "stream",
     "text": [
      "Take umbrella\n"
     ]
    }
   ],
   "source": [
    "raining = True\n",
    "own_umbrella = True\n",
    "\n",
    "if raining == True and own_umbrella == True:\n",
    "    print(\"Take umbrella\")\n",
    "elif raining == True and own_umbrella == False:\n",
    "    print(\"I'm going to get wet\")\n",
    "else:\n",
    "    print(\"A nice day!\")"
   ]
  },
  {
   "cell_type": "markdown",
   "metadata": {},
   "source": [
    "We also don't have to explicitly say <b>`== True`</b>, as saying <b>`if raining`</b> works just as well. We could rewrite it as follows:"
   ]
  },
  {
   "cell_type": "code",
   "execution_count": 21,
   "metadata": {},
   "outputs": [
    {
     "name": "stdout",
     "output_type": "stream",
     "text": [
      "Take umbrella\n"
     ]
    }
   ],
   "source": [
    "raining = True\n",
    "own_umbrella = True\n",
    "\n",
    "if raining and own_umbrella:\n",
    "    print(\"Take umbrella\")\n",
    "elif raining and not own_umbrella:\n",
    "    print(\"I'm going to get wet\")\n",
    "else:\n",
    "    print(\"A nice day!\")"
   ]
  },
  {
   "cell_type": "markdown",
   "metadata": {},
   "source": [
    "This sort of short hand is something that you will develop with practice and intuition. It helps to write more concise code faster."
   ]
  },
  {
   "cell_type": "markdown",
   "metadata": {
    "solution2": "hidden",
    "solution2_first": true
   },
   "source": [
    "<div class=\"alert alert-block alert-info\">\n",
    "<b>Task 3:</b>\n",
    "<br> \n",
    "1. Using what you have learnt. Use <code>if</code> and <code>elif/else</code> statements to take in an exam score and give the following grades:<br>\n",
    "less than 10 is a fail. Between 11 and 45 is a pass, between 46 and 65 is a merit and anything over 65 is a distinction.<br>\n",
    "2. Try changing the <code>exam_grade</code> to test that your logic is working as expected.\n",
    "<br>\n",
    "We started it off for you:\n",
    "</div>"
   ]
  },
  {
   "cell_type": "code",
   "execution_count": null,
   "metadata": {
    "collapsed": true,
    "solution2": "hidden"
   },
   "outputs": [],
   "source": [
    "exam_grade = 56\n",
    "\n",
    "if exam_grade < 10:\n",
    "    print(\"Fail\")\n",
    "elif exam_grade >= 11 and exam_grade <= 45:\n",
    "    print(\"Pass\")\n",
    "elif exam_grade >= 46 and exam_grade <= 55:\n",
    "    print(\"Merit\")\n",
    "elif exam_grade > 55:\n",
    "    print(\"Distinction\")\n",
    "else:\n",
    "    print(\"Not a valid exam grade\")"
   ]
  },
  {
   "cell_type": "code",
   "execution_count": null,
   "metadata": {
    "collapsed": true
   },
   "outputs": [],
   "source": [
    "exam_grade = 56\n",
    "\n",
    "if exam_grade < 10:\n",
    "    print(\"Fail\")\n",
    "elif exam_grade >= 11 and exam_grade <= 45:\n",
    "    print(\"Pass\")"
   ]
  },
  {
   "cell_type": "markdown",
   "metadata": {},
   "source": [
    "The **`input`** function let's a user enter a value that we can store in a variable. We can also ask a question as a string like so:"
   ]
  },
  {
   "cell_type": "code",
   "execution_count": 23,
   "metadata": {},
   "outputs": [
    {
     "name": "stdout",
     "output_type": "stream",
     "text": [
      "Please enter your age: 34\n",
      "You are 34 years old\n"
     ]
    }
   ],
   "source": [
    "user_age = input(\"Please enter your age: \")\n",
    "print(\"You are\", user_age, \"years old\")"
   ]
  },
  {
   "cell_type": "markdown",
   "metadata": {
    "solution2": "hidden",
    "solution2_first": true
   },
   "source": [
    "<div class=\"alert alert-block alert-info\">\n",
    "<b>Task 4:</b>\n",
    "<br> \n",
    "1. Using the <code>input()</code> function, ask the user to enter a number. <br>\n",
    "2. Using the <code>mod</code> operator display a message telling the user if that the number was <code>odd</code> or <code>even</code>\n",
    "</div>"
   ]
  },
  {
   "cell_type": "code",
   "execution_count": null,
   "metadata": {
    "collapsed": true,
    "solution2": "hidden"
   },
   "outputs": [],
   "source": [
    "user_number = int(input(\"Please enter a number: \"))\n",
    "if user_number % 2 == 0:\n",
    "    print(\"Even number\")\n",
    "else:\n",
    "    print(\"Odd number\")"
   ]
  },
  {
   "cell_type": "code",
   "execution_count": null,
   "metadata": {
    "collapsed": true
   },
   "outputs": [],
   "source": []
  }
 ],
 "metadata": {
  "hide_input": false,
  "kernelspec": {
   "display_name": "Python 3",
   "language": "python",
   "name": "python3"
  },
  "language_info": {
   "codemirror_mode": {
    "name": "ipython",
    "version": 3
   },
   "file_extension": ".py",
   "mimetype": "text/x-python",
   "name": "python",
   "nbconvert_exporter": "python",
   "pygments_lexer": "ipython3",
   "version": "3.7.3"
  }
 },
 "nbformat": 4,
 "nbformat_minor": 2
}
