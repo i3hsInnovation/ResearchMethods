{
 "cells": [
  {
   "cell_type": "markdown",
   "metadata": {
    "collapsed": true
   },
   "source": [
    "<img src=\"./intro_images/introbanner.png\" width=\"100%\" align=\"left\" />"
   ]
  },
  {
   "cell_type": "markdown",
   "metadata": {},
   "source": [
    "<table style=\"float:right;\">\n",
    "    <tr>\n",
    "        <td>                      \n",
    "            <div style=\"text-align: right\"><a href=\"https://alandavies.netlify.com\" target=\"_blank\">Dr Alan Davies</a></div>\n",
    "            <div style=\"text-align: right\">Lecturer health data science</div>\n",
    "            <div style=\"text-align: right\">University of Manchester</div>\n",
    "         </td>\n",
    "         <td>\n",
    "             <img src=\"./intro_images/alan.png\" width=\"30%\" />\n",
    "         </td>\n",
    "     </tr>\n",
    "</table>"
   ]
  },
  {
   "cell_type": "markdown",
   "metadata": {},
   "source": [
    "# Practising Your Skills\n",
    "****"
   ]
  },
  {
   "cell_type": "markdown",
   "metadata": {},
   "source": [
    "#### About this Notebook\n",
    "This notebook includes the tools and possible uses for applying the skills learnt so far for example in creating some data visualisations such as boxplots and bar graphs.\n",
    "\n",
    "This notebook is at <code>Beginner</code> level and will take approximately 1 hour to complete.\n",
    "\n",
    "\n",
    "\n",
    "<div class=\"alert alert-block alert-warning\"><b>Learning Objectives:</b> \n",
    "<br/> This notebook will help you start to:\n",
    "    \n",
    "- Express a clear understanding of the basic principles of the Python programming language.\n",
    "- Explain the features of Python that support object-oriented programming\n",
    "\n",
    "</div>"
   ]
  },
  {
   "cell_type": "markdown",
   "metadata": {},
   "source": [
    "### 1.0 Tools\n",
    "So far we have used Python in the context of a **`Jupyter`** notebook. Notebooks are often used in research to report findings as an interactive means of presenting results with text and other resources. This is also good practice for reproducible research where the data and analysis can be provided together for other researchers to examine and use. Although widely used for teaching and research, notebooks are less useful for building complete software systems. For this sort of work programmers would usually use an **`IDE`** (Integrated Development Environment). One that comes for free with the **`Anaconda`** Python distribution is called **`Spyder`**, another widely used free IDE for Python is **`PyCharm`**. There are many more available. "
   ]
  },
  {
   "cell_type": "markdown",
   "metadata": {},
   "source": [
    "<img src=\"./intro_images/spyder.png\" width=\"100%\" />"
   ]
  },
  {
   "cell_type": "markdown",
   "metadata": {},
   "source": [
    "The image above shows the Spyder IDE. IDE's provide several useful features. These usually include a file/function explorer to work on and switch between multiple files in a project. A main code editing window or windows. In the case of Spyder a variable explorer showing the contents of variables and a console for viewing output or trying out bits of code. "
   ]
  },
  {
   "cell_type": "markdown",
   "metadata": {},
   "source": [
    "<img src=\"./intro_images/pycharm.png\" width=\"100%\" />"
   ]
  },
  {
   "cell_type": "markdown",
   "metadata": {},
   "source": [
    "The image above shows the PyCharm IDE. With the file/project navigation panel on the left and two code windows. IDEs also allow for tasks like **`debugging`** where you can step through code executing it line by line or watch the contents of variables to determine where errors may be occurring. "
   ]
  },
  {
   "cell_type": "markdown",
   "metadata": {},
   "source": [
    "So for large projects programmers will use an IDE to manage the various resources of a project (images, source code files, etc.) To see some of the features of an IDE play the video below to see some of the basic features."
   ]
  },
  {
   "cell_type": "markdown",
   "metadata": {},
   "source": [
    "<video controls src=\"./intro_images/IDE.mp4\" width=\"100%\" />"
   ]
  },
  {
   "cell_type": "markdown",
   "metadata": {},
   "source": [
    "<div class=\"alert alert-block alert-info\">\n",
    "<b>Task 1:</b>\n",
    "<br> \n",
    "Download one of the IDEs mentioned and view the getting started guide. \n",
    "Go to <a href=\"https://docs.anaconda.com/anaconda/navigator/\" target=\"_blank\"> Anaconda navigator page</a> which is a graphical interface that gives you access to many different applications such as Pycharm, Spyder and Jupyter Notebooks.\n",
    "\n",
    "Pick either Pycharm or Spyder and have a go with their various settings and features. You can usually adjust the colours, font size, add line numbers etc. Aim to become familiar with the various features of the IDE as they can be very useful and powerful. You may also prefer watching a video on how to use them on YouTube.\n",
    "</div>"
   ]
  },
  {
   "cell_type": "markdown",
   "metadata": {},
   "source": [
    "### 2.0 Using Data Frames"
   ]
  },
  {
   "cell_type": "markdown",
   "metadata": {},
   "source": [
    "One structure for holding data used often in data science is the **`data frame`**. One can think of a data frame in a similar way to that of spreadsheet. It is made up of rows and columns. The columns are typically features (data fields) and the rows are records. The **`pandas`** module has functionality for creating and manipulating data frames - for more information on Pandas open up this [Data Wrangling Cheat Sheet on Pandas](https://pandas.pydata.org/Pandas_Cheat_Sheet.pdf). In the example below we make a data frame containing data about 3 peoples names, ages and blood pressure readings."
   ]
  },
  {
   "cell_type": "code",
   "execution_count": 11,
   "metadata": {},
   "outputs": [
    {
     "name": "stdout",
     "output_type": "stream",
     "text": [
      "           Name  Age      BP\n",
      "0    Paul Smith   52  128/70\n",
      "1  Nick Bandera   18  130/60\n",
      "2  Julie Miller   31  142/72\n"
     ]
    }
   ],
   "source": [
    "import pandas as pd\n",
    "\n",
    "data = [['Paul Smith', 52, \"128/70\"], ['Nick Bandera', 18, \"130/60\"], ['Julie Miller', 31, \"142/72\"]] \n",
    "my_df = pd.DataFrame(data, columns = [\"Name\", \"Age\", \"BP\"])\n",
    "print(my_df)"
   ]
  },
  {
   "cell_type": "markdown",
   "metadata": {},
   "source": [
    "For a nicer output just use the data frame name:"
   ]
  },
  {
   "cell_type": "code",
   "execution_count": 12,
   "metadata": {},
   "outputs": [
    {
     "data": {
      "text/html": [
       "<div>\n",
       "<style scoped>\n",
       "    .dataframe tbody tr th:only-of-type {\n",
       "        vertical-align: middle;\n",
       "    }\n",
       "\n",
       "    .dataframe tbody tr th {\n",
       "        vertical-align: top;\n",
       "    }\n",
       "\n",
       "    .dataframe thead th {\n",
       "        text-align: right;\n",
       "    }\n",
       "</style>\n",
       "<table border=\"1\" class=\"dataframe\">\n",
       "  <thead>\n",
       "    <tr style=\"text-align: right;\">\n",
       "      <th></th>\n",
       "      <th>Name</th>\n",
       "      <th>Age</th>\n",
       "      <th>BP</th>\n",
       "    </tr>\n",
       "  </thead>\n",
       "  <tbody>\n",
       "    <tr>\n",
       "      <th>0</th>\n",
       "      <td>Paul Smith</td>\n",
       "      <td>52</td>\n",
       "      <td>128/70</td>\n",
       "    </tr>\n",
       "    <tr>\n",
       "      <th>1</th>\n",
       "      <td>Nick Bandera</td>\n",
       "      <td>18</td>\n",
       "      <td>130/60</td>\n",
       "    </tr>\n",
       "    <tr>\n",
       "      <th>2</th>\n",
       "      <td>Julie Miller</td>\n",
       "      <td>31</td>\n",
       "      <td>142/72</td>\n",
       "    </tr>\n",
       "  </tbody>\n",
       "</table>\n",
       "</div>"
      ],
      "text/plain": [
       "           Name  Age      BP\n",
       "0    Paul Smith   52  128/70\n",
       "1  Nick Bandera   18  130/60\n",
       "2  Julie Miller   31  142/72"
      ]
     },
     "execution_count": 12,
     "metadata": {},
     "output_type": "execute_result"
    }
   ],
   "source": [
    "my_df"
   ]
  },
  {
   "cell_type": "markdown",
   "metadata": {},
   "source": [
    "We can also look at the columns with the inbuilt functionality."
   ]
  },
  {
   "cell_type": "code",
   "execution_count": 13,
   "metadata": {},
   "outputs": [
    {
     "data": {
      "text/plain": [
       "Index(['Name', 'Age', 'BP'], dtype='object')"
      ]
     },
     "execution_count": 13,
     "metadata": {},
     "output_type": "execute_result"
    }
   ],
   "source": [
    "my_df.columns"
   ]
  },
  {
   "cell_type": "markdown",
   "metadata": {},
   "source": [
    "And select data using the name of the column"
   ]
  },
  {
   "cell_type": "code",
   "execution_count": 14,
   "metadata": {},
   "outputs": [
    {
     "data": {
      "text/plain": [
       "0    128/70\n",
       "1    130/60\n",
       "2    142/72\n",
       "Name: BP, dtype: object"
      ]
     },
     "execution_count": 14,
     "metadata": {},
     "output_type": "execute_result"
    }
   ],
   "source": [
    "my_df[\"BP\"]"
   ]
  },
  {
   "cell_type": "code",
   "execution_count": 15,
   "metadata": {},
   "outputs": [
    {
     "data": {
      "text/plain": [
       "'142/72'"
      ]
     },
     "execution_count": 15,
     "metadata": {},
     "output_type": "execute_result"
    }
   ],
   "source": [
    "my_df[\"BP\"][2]"
   ]
  },
  {
   "cell_type": "markdown",
   "metadata": {},
   "source": [
    "We can also use the **`describe`** function to get some basic statistical information out of the data as well. Here we see the count, average, standard deviation, min and max values and quartiles. "
   ]
  },
  {
   "cell_type": "code",
   "execution_count": 16,
   "metadata": {},
   "outputs": [
    {
     "data": {
      "text/plain": [
       "count     3.000000\n",
       "mean     33.666667\n",
       "std      17.156146\n",
       "min      18.000000\n",
       "25%      24.500000\n",
       "50%      31.000000\n",
       "75%      41.500000\n",
       "max      52.000000\n",
       "Name: Age, dtype: float64"
      ]
     },
     "execution_count": 16,
     "metadata": {},
     "output_type": "execute_result"
    }
   ],
   "source": [
    "my_df[\"Age\"].describe()"
   ]
  },
  {
   "cell_type": "markdown",
   "metadata": {},
   "source": [
    "### 3.0 Data Visualization"
   ]
  },
  {
   "cell_type": "markdown",
   "metadata": {},
   "source": [
    "We can also create visualizations of data using the **`matplotlib`** module. The first line is a special command that allows us to render the plot inline on the notebook and can be ignored (unless you are using a notebook). Here we create a **`boxplot`** of the **`Age`** data that you can compare to the textual output produced with the **`describe()`** function."
   ]
  },
  {
   "cell_type": "code",
   "execution_count": 17,
   "metadata": {},
   "outputs": [
    {
     "data": {
      "text/plain": [
       "{'whiskers': [<matplotlib.lines.Line2D at 0x27b12db8780>,\n",
       "  <matplotlib.lines.Line2D at 0x27b12db89b0>],\n",
       " 'caps': [<matplotlib.lines.Line2D at 0x27b12db8978>,\n",
       "  <matplotlib.lines.Line2D at 0x27b12db8860>],\n",
       " 'boxes': [<matplotlib.lines.Line2D at 0x27b12dc00f0>],\n",
       " 'medians': [<matplotlib.lines.Line2D at 0x27b12f03e80>],\n",
       " 'fliers': [<matplotlib.lines.Line2D at 0x27b12f03898>],\n",
       " 'means': []}"
      ]
     },
     "execution_count": 17,
     "metadata": {},
     "output_type": "execute_result"
    },
    {
     "data": {
      "image/png": "[encoded data removed]",
      "text/plain": [
       "<Figure size 432x288 with 1 Axes>"
      ]
     },
     "metadata": {
      "needs_background": "light"
     },
     "output_type": "display_data"
    }
   ],
   "source": [
    "%matplotlib inline\n",
    "import matplotlib.pyplot as plt\n",
    "\n",
    "fig1, ax1 = plt.subplots()\n",
    "ax1.boxplot(my_df[\"Age\"])"
   ]
  },
  {
   "cell_type": "markdown",
   "metadata": {},
   "source": [
    "There are many different types of plot that you can use in Python. Some of the popular libraries include **`matplotlib`**, **`seaborn`**, **`ploty`** and **`ggplot`** based on the R (statistical programming languages) library of the same name to name just a few. You can check out some examples on the <a href=\"https://matplotlib.org/gallery.html#\" target=\"_blank\">matplotlib gallery</a>."
   ]
  },
  {
   "cell_type": "markdown",
   "metadata": {},
   "source": [
    "Here is another example, this time of a **`bar chart`** showing the name plotted against the age. This time we have include axis labels. "
   ]
  },
  {
   "cell_type": "code",
   "execution_count": 18,
   "metadata": {},
   "outputs": [
    {
     "data": {
      "text/plain": [
       "Text(0.5, 0, 'Age (years)')"
      ]
     },
     "execution_count": 18,
     "metadata": {},
     "output_type": "execute_result"
    },
    {
     "data": {
      "image/png": "[encoded data removed]",
      "text/plain": [
       "<Figure size 640x480 with 1 Axes>"
      ]
     },
     "metadata": {},
     "output_type": "display_data"
    }
   ],
   "source": [
    "plt.rcdefaults()\n",
    "fig, ax = plt.subplots()\n",
    "\n",
    "ax.barh(my_df[\"Name\"], my_df[\"Age\"], align='center',color='blue')\n",
    "ax.set_ylabel('Patient name')\n",
    "ax.set_xlabel('Age (years)')"
   ]
  },
  {
   "cell_type": "markdown",
   "metadata": {},
   "source": [
    "Let's add some more information. A column of heart rates."
   ]
  },
  {
   "cell_type": "code",
   "execution_count": 19,
   "metadata": {},
   "outputs": [
    {
     "data": {
      "text/html": [
       "<div>\n",
       "<style scoped>\n",
       "    .dataframe tbody tr th:only-of-type {\n",
       "        vertical-align: middle;\n",
       "    }\n",
       "\n",
       "    .dataframe tbody tr th {\n",
       "        vertical-align: top;\n",
       "    }\n",
       "\n",
       "    .dataframe thead th {\n",
       "        text-align: right;\n",
       "    }\n",
       "</style>\n",
       "<table border=\"1\" class=\"dataframe\">\n",
       "  <thead>\n",
       "    <tr style=\"text-align: right;\">\n",
       "      <th></th>\n",
       "      <th>Name</th>\n",
       "      <th>Age</th>\n",
       "      <th>BP</th>\n",
       "      <th>HR</th>\n",
       "    </tr>\n",
       "  </thead>\n",
       "  <tbody>\n",
       "    <tr>\n",
       "      <th>0</th>\n",
       "      <td>Paul Smith</td>\n",
       "      <td>52</td>\n",
       "      <td>128/70</td>\n",
       "      <td>101</td>\n",
       "    </tr>\n",
       "    <tr>\n",
       "      <th>1</th>\n",
       "      <td>Nick Bandera</td>\n",
       "      <td>18</td>\n",
       "      <td>130/60</td>\n",
       "      <td>68</td>\n",
       "    </tr>\n",
       "    <tr>\n",
       "      <th>2</th>\n",
       "      <td>Julie Miller</td>\n",
       "      <td>31</td>\n",
       "      <td>142/72</td>\n",
       "      <td>80</td>\n",
       "    </tr>\n",
       "  </tbody>\n",
       "</table>\n",
       "</div>"
      ],
      "text/plain": [
       "           Name  Age      BP   HR\n",
       "0    Paul Smith   52  128/70  101\n",
       "1  Nick Bandera   18  130/60   68\n",
       "2  Julie Miller   31  142/72   80"
      ]
     },
     "execution_count": 19,
     "metadata": {},
     "output_type": "execute_result"
    }
   ],
   "source": [
    "my_df[\"HR\"] = [101, 68, 80]\n",
    "my_df"
   ]
  },
  {
   "cell_type": "markdown",
   "metadata": {
    "solution2": "hidden",
    "solution2_first": true
   },
   "source": [
    "<div class=\"alert alert-block alert-info\">\n",
    "<b>Task 2:</b>\n",
    "<br> \n",
    "Look up how to create a <code>scatterplot</code> and plot <code>Age</code> on the x-axis against <code>HR</code> on the y-axis\n",
    "</div>"
   ]
  },
  {
   "cell_type": "code",
   "execution_count": 20,
   "metadata": {
    "solution2": "hidden"
   },
   "outputs": [
    {
     "data": {
      "image/png": "[encoded data removed]",
      "text/plain": [
       "<Figure size 640x480 with 1 Axes>"
      ]
     },
     "metadata": {},
     "output_type": "display_data"
    }
   ],
   "source": [
    "plt.scatter(my_df[\"Age\"], my_df[\"HR\"], alpha=0.5)\n",
    "plt.title(\"Scatter plot of age and heart rate\")\n",
    "plt.xlabel(\"Age (years)\")\n",
    "plt.ylabel(\"Heart rate (beats per minute)\")\n",
    "plt.show()"
   ]
  },
  {
   "cell_type": "code",
   "execution_count": null,
   "metadata": {},
   "outputs": [],
   "source": []
  },
  {
   "cell_type": "markdown",
   "metadata": {},
   "source": [
    "### 4.0 Working with CSV Data"
   ]
  },
  {
   "cell_type": "markdown",
   "metadata": {},
   "source": [
    "This time we will try working with dataframes by using a CSV file for the data.  So let's begin by calling the pandas library again:"
   ]
  },
  {
   "cell_type": "code",
   "execution_count": 21,
   "metadata": {},
   "outputs": [],
   "source": [
    "import pandas as pd"
   ]
  },
  {
   "cell_type": "markdown",
   "metadata": {},
   "source": [
    "Now use the read.csv() function to load the CSV file which we will store into a dataset called ae_dataset"
   ]
  },
  {
   "cell_type": "code",
   "execution_count": 22,
   "metadata": {},
   "outputs": [],
   "source": [
    "ae_dataset = pd.read_csv(\"./files/January-2020-CSV-js7fh.csv\")"
   ]
  },
  {
   "cell_type": "markdown",
   "metadata": {},
   "source": [
    "Some datasets can be very large. In these cases we wouldn't want to view all the data, as this can take a long time to load. Instead we can view the head of the data. This shows us the first few records so that we can see the structure of the data. There is a useful function for doing this in the pandas library called head() which we use below to display the first few records in our dataset."
   ]
  },
  {
   "cell_type": "code",
   "execution_count": 23,
   "metadata": {},
   "outputs": [
    {
     "data": {
      "text/html": [
       "<div>\n",
       "<style scoped>\n",
       "    .dataframe tbody tr th:only-of-type {\n",
       "        vertical-align: middle;\n",
       "    }\n",
       "\n",
       "    .dataframe tbody tr th {\n",
       "        vertical-align: top;\n",
       "    }\n",
       "\n",
       "    .dataframe thead th {\n",
       "        text-align: right;\n",
       "    }\n",
       "</style>\n",
       "<table border=\"1\" class=\"dataframe\">\n",
       "  <thead>\n",
       "    <tr style=\"text-align: right;\">\n",
       "      <th></th>\n",
       "      <th>Period</th>\n",
       "      <th>Org Code</th>\n",
       "      <th>Parent Org</th>\n",
       "      <th>Org name</th>\n",
       "      <th>Number of A&amp;E attendances Type 1</th>\n",
       "      <th>Number of A&amp;E attendances Type 2</th>\n",
       "      <th>Number of A&amp;E attendances Other A&amp;E Department</th>\n",
       "      <th>Number of attendances over 4hrs Type 1</th>\n",
       "      <th>Number of attendances over 4hrs Type 2</th>\n",
       "      <th>Number of attendances over 4hrs Other A&amp;E Department</th>\n",
       "      <th>Patients who have waited 4-12 hs from DTA to admission</th>\n",
       "      <th>Patients who have waited 12+ hrs from DTA to admission</th>\n",
       "      <th>Emergency admissions via A&amp;E - Type 1</th>\n",
       "      <th>Emergency admissions via A&amp;E - Type 2</th>\n",
       "      <th>Emergency admissions via A&amp;E - Other A&amp;E department</th>\n",
       "      <th>Other emergency admissions</th>\n",
       "    </tr>\n",
       "  </thead>\n",
       "  <tbody>\n",
       "    <tr>\n",
       "      <th>0</th>\n",
       "      <td>MSitAE-JANUARY-2020</td>\n",
       "      <td>NR3</td>\n",
       "      <td>NHS ENGLAND MIDLANDS (NORTH MIDLANDS)</td>\n",
       "      <td>NOTTINGHAM CITYCARE PARTNERSHIP</td>\n",
       "      <td>0</td>\n",
       "      <td>0</td>\n",
       "      <td>5223</td>\n",
       "      <td>0</td>\n",
       "      <td>0</td>\n",
       "      <td>3</td>\n",
       "      <td>0</td>\n",
       "      <td>0</td>\n",
       "      <td>0</td>\n",
       "      <td>0</td>\n",
       "      <td>0</td>\n",
       "      <td>0</td>\n",
       "    </tr>\n",
       "    <tr>\n",
       "      <th>1</th>\n",
       "      <td>MSitAE-JANUARY-2020</td>\n",
       "      <td>RPC</td>\n",
       "      <td>NHS ENGLAND SOUTH EAST (KENT, SURREY AND SUSSEX)</td>\n",
       "      <td>QUEEN VICTORIA HOSPITAL NHS FOUNDATION TRUST</td>\n",
       "      <td>0</td>\n",
       "      <td>0</td>\n",
       "      <td>987</td>\n",
       "      <td>0</td>\n",
       "      <td>0</td>\n",
       "      <td>1</td>\n",
       "      <td>0</td>\n",
       "      <td>0</td>\n",
       "      <td>0</td>\n",
       "      <td>0</td>\n",
       "      <td>11</td>\n",
       "      <td>283</td>\n",
       "    </tr>\n",
       "    <tr>\n",
       "      <th>2</th>\n",
       "      <td>MSitAE-JANUARY-2020</td>\n",
       "      <td>NTV0W</td>\n",
       "      <td>NHS ENGLAND SOUTH EAST (KENT, SURREY AND SUSSEX)</td>\n",
       "      <td>WOKING WALK IN CENTRE</td>\n",
       "      <td>0</td>\n",
       "      <td>0</td>\n",
       "      <td>3322</td>\n",
       "      <td>0</td>\n",
       "      <td>0</td>\n",
       "      <td>2</td>\n",
       "      <td>0</td>\n",
       "      <td>0</td>\n",
       "      <td>0</td>\n",
       "      <td>0</td>\n",
       "      <td>0</td>\n",
       "      <td>0</td>\n",
       "    </tr>\n",
       "    <tr>\n",
       "      <th>3</th>\n",
       "      <td>MSitAE-JANUARY-2020</td>\n",
       "      <td>NTV0B</td>\n",
       "      <td>NHS ENGLAND SOUTH EAST (KENT, SURREY AND SUSSEX)</td>\n",
       "      <td>ASHFORD WALK-IN-CENTRE</td>\n",
       "      <td>0</td>\n",
       "      <td>0</td>\n",
       "      <td>3263</td>\n",
       "      <td>0</td>\n",
       "      <td>0</td>\n",
       "      <td>3</td>\n",
       "      <td>0</td>\n",
       "      <td>0</td>\n",
       "      <td>0</td>\n",
       "      <td>0</td>\n",
       "      <td>0</td>\n",
       "      <td>0</td>\n",
       "    </tr>\n",
       "    <tr>\n",
       "      <th>4</th>\n",
       "      <td>MSitAE-JANUARY-2020</td>\n",
       "      <td>Y02428</td>\n",
       "      <td>NHS ENGLAND EAST OF ENGLAND (EAST)</td>\n",
       "      <td>PUTNOE MEDICAL CENTRE WALK IN CENTRE</td>\n",
       "      <td>0</td>\n",
       "      <td>0</td>\n",
       "      <td>2075</td>\n",
       "      <td>0</td>\n",
       "      <td>0</td>\n",
       "      <td>0</td>\n",
       "      <td>0</td>\n",
       "      <td>0</td>\n",
       "      <td>0</td>\n",
       "      <td>0</td>\n",
       "      <td>0</td>\n",
       "      <td>0</td>\n",
       "    </tr>\n",
       "  </tbody>\n",
       "</table>\n",
       "</div>"
      ],
      "text/plain": [
       "                Period Org Code  \\\n",
       "0  MSitAE-JANUARY-2020      NR3   \n",
       "1  MSitAE-JANUARY-2020      RPC   \n",
       "2  MSitAE-JANUARY-2020    NTV0W   \n",
       "3  MSitAE-JANUARY-2020    NTV0B   \n",
       "4  MSitAE-JANUARY-2020   Y02428   \n",
       "\n",
       "                                         Parent Org  \\\n",
       "0             NHS ENGLAND MIDLANDS (NORTH MIDLANDS)   \n",
       "1  NHS ENGLAND SOUTH EAST (KENT, SURREY AND SUSSEX)   \n",
       "2  NHS ENGLAND SOUTH EAST (KENT, SURREY AND SUSSEX)   \n",
       "3  NHS ENGLAND SOUTH EAST (KENT, SURREY AND SUSSEX)   \n",
       "4                NHS ENGLAND EAST OF ENGLAND (EAST)   \n",
       "\n",
       "                                       Org name  \\\n",
       "0               NOTTINGHAM CITYCARE PARTNERSHIP   \n",
       "1  QUEEN VICTORIA HOSPITAL NHS FOUNDATION TRUST   \n",
       "2                         WOKING WALK IN CENTRE   \n",
       "3                        ASHFORD WALK-IN-CENTRE   \n",
       "4          PUTNOE MEDICAL CENTRE WALK IN CENTRE   \n",
       "\n",
       "   Number of A&E attendances Type 1  Number of A&E attendances Type 2  \\\n",
       "0                                 0                                 0   \n",
       "1                                 0                                 0   \n",
       "2                                 0                                 0   \n",
       "3                                 0                                 0   \n",
       "4                                 0                                 0   \n",
       "\n",
       "   Number of A&E attendances Other A&E Department  \\\n",
       "0                                            5223   \n",
       "1                                             987   \n",
       "2                                            3322   \n",
       "3                                            3263   \n",
       "4                                            2075   \n",
       "\n",
       "   Number of attendances over 4hrs Type 1  \\\n",
       "0                                       0   \n",
       "1                                       0   \n",
       "2                                       0   \n",
       "3                                       0   \n",
       "4                                       0   \n",
       "\n",
       "   Number of attendances over 4hrs Type 2  \\\n",
       "0                                       0   \n",
       "1                                       0   \n",
       "2                                       0   \n",
       "3                                       0   \n",
       "4                                       0   \n",
       "\n",
       "   Number of attendances over 4hrs Other A&E Department  \\\n",
       "0                                                  3      \n",
       "1                                                  1      \n",
       "2                                                  2      \n",
       "3                                                  3      \n",
       "4                                                  0      \n",
       "\n",
       "   Patients who have waited 4-12 hs from DTA to admission  \\\n",
       "0                                                  0        \n",
       "1                                                  0        \n",
       "2                                                  0        \n",
       "3                                                  0        \n",
       "4                                                  0        \n",
       "\n",
       "   Patients who have waited 12+ hrs from DTA to admission  \\\n",
       "0                                                  0        \n",
       "1                                                  0        \n",
       "2                                                  0        \n",
       "3                                                  0        \n",
       "4                                                  0        \n",
       "\n",
       "   Emergency admissions via A&E - Type 1  \\\n",
       "0                                      0   \n",
       "1                                      0   \n",
       "2                                      0   \n",
       "3                                      0   \n",
       "4                                      0   \n",
       "\n",
       "   Emergency admissions via A&E - Type 2  \\\n",
       "0                                      0   \n",
       "1                                      0   \n",
       "2                                      0   \n",
       "3                                      0   \n",
       "4                                      0   \n",
       "\n",
       "   Emergency admissions via A&E - Other A&E department  \\\n",
       "0                                                  0     \n",
       "1                                                 11     \n",
       "2                                                  0     \n",
       "3                                                  0     \n",
       "4                                                  0     \n",
       "\n",
       "   Other emergency admissions  \n",
       "0                           0  \n",
       "1                         283  \n",
       "2                           0  \n",
       "3                           0  \n",
       "4                           0  "
      ]
     },
     "execution_count": 23,
     "metadata": {},
     "output_type": "execute_result"
    }
   ],
   "source": [
    "ae_dataset.head()"
   ]
  },
  {
   "cell_type": "markdown",
   "metadata": {},
   "source": [
    "For analysis and modeling of data, you may only be interest in a portion of the relevant data. For this we need to extract a subset of the data. Let's say we are only interested in the number of Type 1 attendances that are greater than 0 for particular organizations. We can extract just the columns or features we are interested in by specifying them by name within quotation marks (this denotes a text string in Python). Here we extract just the columns Org name and Number of A&E attendances Type 1."
   ]
  },
  {
   "cell_type": "code",
   "execution_count": 24,
   "metadata": {},
   "outputs": [],
   "source": [
    "type1 = ae_dataset[[\"Org name\", \"Number of A&E attendances Type 1\"]]"
   ]
  },
  {
   "cell_type": "code",
   "execution_count": 25,
   "metadata": {},
   "outputs": [
    {
     "data": {
      "text/html": [
       "<div>\n",
       "<style scoped>\n",
       "    .dataframe tbody tr th:only-of-type {\n",
       "        vertical-align: middle;\n",
       "    }\n",
       "\n",
       "    .dataframe tbody tr th {\n",
       "        vertical-align: top;\n",
       "    }\n",
       "\n",
       "    .dataframe thead th {\n",
       "        text-align: right;\n",
       "    }\n",
       "</style>\n",
       "<table border=\"1\" class=\"dataframe\">\n",
       "  <thead>\n",
       "    <tr style=\"text-align: right;\">\n",
       "      <th></th>\n",
       "      <th>Org name</th>\n",
       "      <th>Number of A&amp;E attendances Type 1</th>\n",
       "    </tr>\n",
       "  </thead>\n",
       "  <tbody>\n",
       "    <tr>\n",
       "      <th>0</th>\n",
       "      <td>NOTTINGHAM CITYCARE PARTNERSHIP</td>\n",
       "      <td>0</td>\n",
       "    </tr>\n",
       "    <tr>\n",
       "      <th>1</th>\n",
       "      <td>QUEEN VICTORIA HOSPITAL NHS FOUNDATION TRUST</td>\n",
       "      <td>0</td>\n",
       "    </tr>\n",
       "    <tr>\n",
       "      <th>2</th>\n",
       "      <td>WOKING WALK IN CENTRE</td>\n",
       "      <td>0</td>\n",
       "    </tr>\n",
       "    <tr>\n",
       "      <th>3</th>\n",
       "      <td>ASHFORD WALK-IN-CENTRE</td>\n",
       "      <td>0</td>\n",
       "    </tr>\n",
       "    <tr>\n",
       "      <th>4</th>\n",
       "      <td>PUTNOE MEDICAL CENTRE WALK IN CENTRE</td>\n",
       "      <td>0</td>\n",
       "    </tr>\n",
       "    <tr>\n",
       "      <th>5</th>\n",
       "      <td>NORWICH PRACTICES LTD</td>\n",
       "      <td>0</td>\n",
       "    </tr>\n",
       "    <tr>\n",
       "      <th>6</th>\n",
       "      <td>LATHAM HOUSE MEDICAL PRACTICE</td>\n",
       "      <td>0</td>\n",
       "    </tr>\n",
       "    <tr>\n",
       "      <th>7</th>\n",
       "      <td>SOUTHPORT AND ORMSKIRK HOSPITAL NHS TRUST</td>\n",
       "      <td>7136</td>\n",
       "    </tr>\n",
       "    <tr>\n",
       "      <th>8</th>\n",
       "      <td>WORKINGTON HEALTH LIMITED</td>\n",
       "      <td>0</td>\n",
       "    </tr>\n",
       "    <tr>\n",
       "      <th>9</th>\n",
       "      <td>GLOUCESTERSHIRE HEALTH AND CARE NHS FOUNDATION...</td>\n",
       "      <td>0</td>\n",
       "    </tr>\n",
       "  </tbody>\n",
       "</table>\n",
       "</div>"
      ],
      "text/plain": [
       "                                            Org name  \\\n",
       "0                    NOTTINGHAM CITYCARE PARTNERSHIP   \n",
       "1       QUEEN VICTORIA HOSPITAL NHS FOUNDATION TRUST   \n",
       "2                              WOKING WALK IN CENTRE   \n",
       "3                             ASHFORD WALK-IN-CENTRE   \n",
       "4               PUTNOE MEDICAL CENTRE WALK IN CENTRE   \n",
       "5                              NORWICH PRACTICES LTD   \n",
       "6                      LATHAM HOUSE MEDICAL PRACTICE   \n",
       "7          SOUTHPORT AND ORMSKIRK HOSPITAL NHS TRUST   \n",
       "8                          WORKINGTON HEALTH LIMITED   \n",
       "9  GLOUCESTERSHIRE HEALTH AND CARE NHS FOUNDATION...   \n",
       "\n",
       "   Number of A&E attendances Type 1  \n",
       "0                                 0  \n",
       "1                                 0  \n",
       "2                                 0  \n",
       "3                                 0  \n",
       "4                                 0  \n",
       "5                                 0  \n",
       "6                                 0  \n",
       "7                              7136  \n",
       "8                                 0  \n",
       "9                                 0  "
      ]
     },
     "execution_count": 25,
     "metadata": {},
     "output_type": "execute_result"
    }
   ],
   "source": [
    "type1.head(10)"
   ]
  },
  {
   "cell_type": "markdown",
   "metadata": {},
   "source": [
    "We can also query and filter the data. For example I could choose to extract all results where there were more than (>) zero admissions. I can use this to filter the data and view the head of the data as before."
   ]
  },
  {
   "cell_type": "code",
   "execution_count": 26,
   "metadata": {},
   "outputs": [],
   "source": [
    "gt_zero_admissions = type1[\"Number of A&E attendances Type 1\"] > 0"
   ]
  },
  {
   "cell_type": "code",
   "execution_count": 27,
   "metadata": {},
   "outputs": [],
   "source": [
    "type1_filtered = type1[gt_zero_admissions]"
   ]
  },
  {
   "cell_type": "code",
   "execution_count": 28,
   "metadata": {},
   "outputs": [
    {
     "data": {
      "text/html": [
       "<div>\n",
       "<style scoped>\n",
       "    .dataframe tbody tr th:only-of-type {\n",
       "        vertical-align: middle;\n",
       "    }\n",
       "\n",
       "    .dataframe tbody tr th {\n",
       "        vertical-align: top;\n",
       "    }\n",
       "\n",
       "    .dataframe thead th {\n",
       "        text-align: right;\n",
       "    }\n",
       "</style>\n",
       "<table border=\"1\" class=\"dataframe\">\n",
       "  <thead>\n",
       "    <tr style=\"text-align: right;\">\n",
       "      <th></th>\n",
       "      <th>Org name</th>\n",
       "      <th>Number of A&amp;E attendances Type 1</th>\n",
       "    </tr>\n",
       "  </thead>\n",
       "  <tbody>\n",
       "    <tr>\n",
       "      <th>7</th>\n",
       "      <td>SOUTHPORT AND ORMSKIRK HOSPITAL NHS TRUST</td>\n",
       "      <td>7136</td>\n",
       "    </tr>\n",
       "    <tr>\n",
       "      <th>12</th>\n",
       "      <td>NORTH MIDDLESEX UNIVERSITY HOSPITAL NHS TRUST</td>\n",
       "      <td>9432</td>\n",
       "    </tr>\n",
       "    <tr>\n",
       "      <th>25</th>\n",
       "      <td>HULL UNIVERSITY TEACHING HOSPITALS NHS TRUST</td>\n",
       "      <td>10922</td>\n",
       "    </tr>\n",
       "    <tr>\n",
       "      <th>27</th>\n",
       "      <td>NORTHERN DEVON HEALTHCARE NHS TRUST</td>\n",
       "      <td>3743</td>\n",
       "    </tr>\n",
       "    <tr>\n",
       "      <th>32</th>\n",
       "      <td>BLACKPOOL TEACHING HOSPITALS NHS FOUNDATION TRUST</td>\n",
       "      <td>5916</td>\n",
       "    </tr>\n",
       "    <tr>\n",
       "      <th>33</th>\n",
       "      <td>YEOVIL DISTRICT HOSPITAL NHS FOUNDATION TRUST</td>\n",
       "      <td>4773</td>\n",
       "    </tr>\n",
       "    <tr>\n",
       "      <th>34</th>\n",
       "      <td>BRIGHTON AND SUSSEX UNIVERSITY HOSPITALS NHS T...</td>\n",
       "      <td>13574</td>\n",
       "    </tr>\n",
       "    <tr>\n",
       "      <th>39</th>\n",
       "      <td>NORTH WEST ANGLIA NHS FOUNDATION TRUST</td>\n",
       "      <td>13366</td>\n",
       "    </tr>\n",
       "    <tr>\n",
       "      <th>43</th>\n",
       "      <td>POOLE HOSPITAL NHS FOUNDATION TRUST</td>\n",
       "      <td>5687</td>\n",
       "    </tr>\n",
       "    <tr>\n",
       "      <th>45</th>\n",
       "      <td>JAMES PAGET UNIVERSITY HOSPITALS NHS FOUNDATIO...</td>\n",
       "      <td>6465</td>\n",
       "    </tr>\n",
       "  </tbody>\n",
       "</table>\n",
       "</div>"
      ],
      "text/plain": [
       "                                             Org name  \\\n",
       "7           SOUTHPORT AND ORMSKIRK HOSPITAL NHS TRUST   \n",
       "12      NORTH MIDDLESEX UNIVERSITY HOSPITAL NHS TRUST   \n",
       "25       HULL UNIVERSITY TEACHING HOSPITALS NHS TRUST   \n",
       "27                NORTHERN DEVON HEALTHCARE NHS TRUST   \n",
       "32  BLACKPOOL TEACHING HOSPITALS NHS FOUNDATION TRUST   \n",
       "33      YEOVIL DISTRICT HOSPITAL NHS FOUNDATION TRUST   \n",
       "34  BRIGHTON AND SUSSEX UNIVERSITY HOSPITALS NHS T...   \n",
       "39             NORTH WEST ANGLIA NHS FOUNDATION TRUST   \n",
       "43                POOLE HOSPITAL NHS FOUNDATION TRUST   \n",
       "45  JAMES PAGET UNIVERSITY HOSPITALS NHS FOUNDATIO...   \n",
       "\n",
       "    Number of A&E attendances Type 1  \n",
       "7                               7136  \n",
       "12                              9432  \n",
       "25                             10922  \n",
       "27                              3743  \n",
       "32                              5916  \n",
       "33                              4773  \n",
       "34                             13574  \n",
       "39                             13366  \n",
       "43                              5687  \n",
       "45                              6465  "
      ]
     },
     "execution_count": 28,
     "metadata": {},
     "output_type": "execute_result"
    }
   ],
   "source": [
    "type1_filtered.head(10)"
   ]
  },
  {
   "cell_type": "markdown",
   "metadata": {},
   "source": [
    "There is also the ability to generate some plots (graphs/charts) of the data in a given dataframe. Below we can see an example of a bar plot on the filtered data for type 1 admissions."
   ]
  },
  {
   "cell_type": "markdown",
   "metadata": {},
   "source": [
    "<div class=\"alert alert-success\">\n",
    "    <strong>Note:</strong> If you click on the little up and down arrows in the table above in the column headings next to the number of attendances, you can order the table in ascending or descending results.\n",
    "</div>"
   ]
  },
  {
   "cell_type": "markdown",
   "metadata": {},
   "source": [
    "<div class=\"alert alert-block alert-info\">\n",
    "<b>Task 3:</b>\n",
    "<br> \n",
    "    1. How many rows does the <code>type1_filtered</code> dataset have now? (<strong>Hint:</strong> use the <code>len()</code> function)<br>\n",
    "    2. Using the code above, try filtering the data for <code>Type 2</code> admissions.<br>\n",
    "    3. Display the data using the <code>head()</code> function.\n",
    "</div>"
   ]
  },
  {
   "cell_type": "code",
   "execution_count": 29,
   "metadata": {},
   "outputs": [
    {
     "data": {
      "text/plain": [
       "133"
      ]
     },
     "execution_count": 29,
     "metadata": {},
     "output_type": "execute_result"
    }
   ],
   "source": [
    "len(type1_filtered)"
   ]
  },
  {
   "cell_type": "markdown",
   "metadata": {},
   "source": [
    "There is also the ability to generate some plots (graphs/charts) of the data in a given dataframe. Below we can see an example of a bar plot on the filtered data for type 1 admissions."
   ]
  },
  {
   "cell_type": "code",
   "execution_count": 30,
   "metadata": {},
   "outputs": [
    {
     "data": {
      "image/png": "[encoded data removed]",
      "text/plain": [
       "<Figure size 640x480 with 1 Axes>"
      ]
     },
     "metadata": {},
     "output_type": "display_data"
    }
   ],
   "source": [
    "type1_filtered.plot.bar();"
   ]
  },
  {
   "cell_type": "markdown",
   "metadata": {
    "cell_style": "split"
   },
   "source": [
    "<div class=\"alert alert-block alert-info\">\n",
    "<b>Task 4: Open Prescribing dataset</b>\n",
    "<br> \n",
    "Now its your turn:\n",
    "    <ol = \"1\">\n",
    "        <li>Go to anaconda and download the navigator and open up PyCharm</li>\n",
    "        <li>Create a project called Dataset and organise your folders similar to those shown on the right. Keep it simple and organised</li>\n",
    "        <li>Go to <a href=\"https://openprescribing.net/chemical/\" target=\"_blank\">Open Presecribing website All chemicals search page</a> and find Dexamethasone (0603020G0)\n",
    "        <li>Download the dataset 'Dexamethasone by CCG.csv' and store it in the data folder 'raw' as shown in the image</li>  \n",
    "        <li>Open up a new project in PyCharm (or Spyder) and try to find some key information on the drug during August 2020 using the methods and coding in section 3 and 4 of this notebook</li>\n",
    "    </ol>\n",
    "    \n",
    "            \n",
    "            \n",
    "</div>"
   ]
  },
  {
   "cell_type": "markdown",
   "metadata": {
    "cell_style": "split"
   },
   "source": [
    "<img src=\"./intro_images/file-structure.png\" width=\"75%\" align=\"left\" />  "
   ]
  },
  {
   "cell_type": "markdown",
   "metadata": {},
   "source": [
    "### 5.0 Where Next?"
   ]
  },
  {
   "cell_type": "markdown",
   "metadata": {},
   "source": [
    "We have covered just a small sample of the sort of things you can use Python for. If you have a sound understanding of the topics covered to this point, you can build on them to use Python in different ways. Data science tasks are just one such application. Python can be used to build complete software systems, including hosting web pages, accessing databases and other files and carrying out data analysis. \n",
    "\n",
    "Hopefully this short introduction to programming using Python has provided a broad background on which you can go on to develop your skills. Many of the concepts explained here are present in many other modern programming languages (even if their syntax is different). Programming is a skill that requires practice and trial and error. The more you do it, the better you will get, rather like playing a musical instrument. So..."
   ]
  },
  {
   "cell_type": "code",
   "execution_count": 31,
   "metadata": {},
   "outputs": [
    {
     "data": {
      "text/plain": [
       "'practice practice practice '"
      ]
     },
     "execution_count": 31,
     "metadata": {},
     "output_type": "execute_result"
    }
   ],
   "source": [
    "\"practice \" * 3"
   ]
  },
  {
   "cell_type": "markdown",
   "metadata": {
    "collapsed": true
   },
   "source": [
    "\n",
    "#### Notebook details\n",
    "<br>\n",
    "<i>Notebook created by <strong>Dr. Alan Davies</strong> with, <strong>Frances Hooley</strong> \n",
    "    \n",
    "\n",
    "Publish date: October 2020<br>\n",
    "Review date: October 2021</i>\n",
    "\n",
    "Please give your feedback using the button below:\n",
    "\n",
    "<a class=\"typeform-share button\" href=\"https://form.typeform.com/to/YMpwLTNy\" data-mode=\"popup\" style=\"display:inline-block;text-decoration:none;background-color:#3A7685;color:white;cursor:pointer;font-family:Helvetica,Arial,sans-serif;font-size:18px;line-height:45px;text-align:center;margin:0;height:45px;padding:0px 30px;border-radius:22px;max-width:100%;white-space:nowrap;overflow:hidden;text-overflow:ellipsis;font-weight:bold;-webkit-font-smoothing:antialiased;-moz-osx-font-smoothing:grayscale;\" target=\"_blank\">Rate this notebook </a> <script> (function() { var qs,js,q,s,d=document, gi=d.getElementById, ce=d.createElement, gt=d.getElementsByTagName, id=\"typef_orm_share\", b=\"https://embed.typeform.com/\"; if(!gi.call(d,id)){ js=ce.call(d,\"script\"); js.id=id; js.src=b+\"embed.js\"; q=gt.call(d,\"script\")[0]; q.parentNode.insertBefore(js,q) } })() </script>"
   ]
  },
  {
   "cell_type": "code",
   "execution_count": null,
   "metadata": {},
   "outputs": [],
   "source": []
  }
 ],
 "metadata": {
  "hide_input": false,
  "kernelspec": {
   "display_name": "Python 3",
   "language": "python",
   "name": "python3"
  },
  "language_info": {
   "codemirror_mode": {
    "name": "ipython",
    "version": 3
   },
   "file_extension": ".py",
   "mimetype": "text/x-python",
   "name": "python",
   "nbconvert_exporter": "python",
   "pygments_lexer": "ipython3",
   "version": "3.7.3"
  }
 },
 "nbformat": 4,
 "nbformat_minor": 2
}
