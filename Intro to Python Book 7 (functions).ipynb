{
 "cells": [
  {
   "cell_type": "markdown",
   "metadata": {},
   "source": [
    "<img src=\"./intro_images/introbanner.png\" width=\"100%\" align=\"left\" />"
   ]
  },
  {
   "cell_type": "markdown",
   "metadata": {},
   "source": [
    "<table style=\"float:right;\">\n",
    "    <tr>\n",
    "        <td>                      \n",
    "            <div style=\"text-align: right\"><a href=\"https://alandavies.netlify.com\" target=\"_blank\">Dr Alan Davies</a></div>\n",
    "            <div style=\"text-align: right\">Lecturer health data science</div>\n",
    "            <div style=\"text-align: right\">University of Manchester</div>\n",
    "         </td>\n",
    "         <td>\n",
    "             <img src=\"./intro_images/alan.png\" width=\"30%\" />\n",
    "         </td>\n",
    "     </tr>\n",
    "</table>"
   ]
  },
  {
   "cell_type": "markdown",
   "metadata": {},
   "source": [
    "# Functions\n",
    "****"
   ]
  },
  {
   "cell_type": "markdown",
   "metadata": {},
   "source": [
    "#### About this Notebook\n",
    "This notebook includes creating and calling different types of functions as well as revisiting how variables are used in your coding projects\n",
    "\n",
    "This notebook is at <code>Beginner</code> level and will take approximately 1 hour to complete.\n",
    "\n",
    "-------------------\n",
    "\n",
    "<div class=\"alert alert-block alert-warning\"><b>Learning Objectives:</b> \n",
    "<br/> This notebook will help you start to:\n",
    "    \n",
    "- Express a clear understanding of the basic principles of the Python programming language.\n",
    "- Explain the features of Python that support object-oriented programming\n",
    "\n",
    "</div>\n"
   ]
  },
  {
   "cell_type": "markdown",
   "metadata": {},
   "source": [
    "We have already been using functions in Python. For example **`print()`** is a function, as is **`len()`** and **`range()`**. We use functions to make our code more modular and to contain code that we may need to repeat several times. We also use functions to carry out specific tasks. For example to convert the temperature between different units. To make a function in Python we use the **`def`** command followed by a function name (as with variables try to make this descriptive of what the function does). We can also provide any parameters that we may want to pass into a function. Functions can optionally take input values and return an output."
   ]
  },
  {
   "cell_type": "code",
   "execution_count": 2,
   "metadata": {
    "collapsed": true
   },
   "outputs": [],
   "source": [
    "def my_hello_function():\n",
    "    print(\"Hello world!!\")"
   ]
  },
  {
   "cell_type": "markdown",
   "metadata": {},
   "source": [
    "You will notice when you run the cell above that nothing happens. This is because to run the code contained within a function we need to first **`call`** the function. We do this by using the functions name followed by the parenthesis (round brackets)."
   ]
  },
  {
   "cell_type": "code",
   "execution_count": 3,
   "metadata": {},
   "outputs": [
    {
     "name": "stdout",
     "output_type": "stream",
     "text": [
      "Hello world!!\n"
     ]
    }
   ],
   "source": [
    "my_hello_function()"
   ]
  },
  {
   "cell_type": "markdown",
   "metadata": {},
   "source": [
    "We can pass variables to a function so that the values can be used internally by the function. For example we could extend the function to take a string input value and display that message instead of a hard coded one. "
   ]
  },
  {
   "cell_type": "code",
   "execution_count": 4,
   "metadata": {
    "collapsed": true
   },
   "outputs": [],
   "source": [
    "def display_message(msg):\n",
    "    print(msg)"
   ]
  },
  {
   "cell_type": "markdown",
   "metadata": {},
   "source": [
    "Now we can pass in a custom message like so."
   ]
  },
  {
   "cell_type": "code",
   "execution_count": 5,
   "metadata": {},
   "outputs": [
    {
     "name": "stdout",
     "output_type": "stream",
     "text": [
      "Say Hi\n",
      "Say something else\n"
     ]
    }
   ],
   "source": [
    "display_message(\"Say Hi\")\n",
    "display_message(\"Say something else\")"
   ]
  },
  {
   "cell_type": "markdown",
   "metadata": {},
   "source": [
    "We can pass in multiple values separating them with commas."
   ]
  },
  {
   "cell_type": "code",
   "execution_count": 6,
   "metadata": {},
   "outputs": [
    {
     "name": "stdout",
     "output_type": "stream",
     "text": [
      "Name:  Dave\n",
      "Age:  56\n"
     ]
    }
   ],
   "source": [
    "def print_person_data(persons_name, persons_age):\n",
    "    print(\"Name: \", persons_name)\n",
    "    print(\"Age: \", persons_age)\n",
    "    \n",
    "print_person_data(\"Dave\", 56)"
   ]
  },
  {
   "cell_type": "markdown",
   "metadata": {},
   "source": [
    "We can also **`return`** or pass back an output form our function. For example the outcome of a calculation that we might want to use later on."
   ]
  },
  {
   "cell_type": "code",
   "execution_count": 7,
   "metadata": {
    "collapsed": true
   },
   "outputs": [],
   "source": [
    "def add_numbers(n1, n2):\n",
    "    return n1 + n2"
   ]
  },
  {
   "cell_type": "code",
   "execution_count": 8,
   "metadata": {},
   "outputs": [
    {
     "name": "stdout",
     "output_type": "stream",
     "text": [
      "7\n"
     ]
    }
   ],
   "source": [
    "answer = add_numbers(5, 2)\n",
    "print(answer)"
   ]
  },
  {
   "cell_type": "markdown",
   "metadata": {},
   "source": [
    "We can also cut out the step above of storing the returned value in a variable. This is inefficient if we don't need to use it again. Instead we could just print the output directly."
   ]
  },
  {
   "cell_type": "code",
   "execution_count": 19,
   "metadata": {},
   "outputs": [
    {
     "name": "stdout",
     "output_type": "stream",
     "text": [
      "7\n"
     ]
    }
   ],
   "source": [
    "print(add_numbers(5, 2))"
   ]
  },
  {
   "cell_type": "markdown",
   "metadata": {
    "solution2": "hidden",
    "solution2_first": true
   },
   "source": [
    "<div class=\"alert alert-block alert-info\">\n",
    "<b>Task 1:</b>\n",
    "<br> \n",
    "1. Create a list called <code>nums</code> with the following values 1, 4, 5, 2, 1, 6<br />\n",
    "2. Write a function called <code>avg</code> to return the average of these numbers (add up all the numbers and divide by the count)\n",
    "$$\n",
    "\\frac{x_1 + x_2 + ... + x_n}{n}\n",
    "$$\n",
    "</div>"
   ]
  },
  {
   "cell_type": "code",
   "execution_count": 10,
   "metadata": {
    "solution2": "hidden"
   },
   "outputs": [
    {
     "name": "stdout",
     "output_type": "stream",
     "text": [
      "3.1666666666666665\n"
     ]
    }
   ],
   "source": [
    "nums = [1, 4, 5, 2, 1, 6]\n",
    "\n",
    "def avg(nums):\n",
    "    total = 0\n",
    "    for i in range(len(nums)):\n",
    "        total = total + nums[i]\n",
    "    return total / len(nums)\n",
    "\n",
    "print(avg(nums))"
   ]
  },
  {
   "cell_type": "code",
   "execution_count": null,
   "metadata": {
    "collapsed": true
   },
   "outputs": [],
   "source": []
  },
  {
   "cell_type": "markdown",
   "metadata": {},
   "source": [
    "Another useful feature in Python is the ability to provide a default value for a function parameter. Let's say we wanted to write a function to output a workers name and job title. We might have a lot of scientists in the company, so we could set this as the default value."
   ]
  },
  {
   "cell_type": "code",
   "execution_count": 11,
   "metadata": {
    "collapsed": true
   },
   "outputs": [],
   "source": [
    "def display_name_title(persons_name, persons_role = \"Scientist\"):\n",
    "    print(persons_role, persons_name)"
   ]
  },
  {
   "cell_type": "code",
   "execution_count": 12,
   "metadata": {},
   "outputs": [
    {
     "name": "stdout",
     "output_type": "stream",
     "text": [
      "Scientist Alan Smith\n"
     ]
    }
   ],
   "source": [
    "display_name_title(\"Alan Smith\")"
   ]
  },
  {
   "cell_type": "markdown",
   "metadata": {},
   "source": [
    "This automatically uses **Scientist** as the default role. But this can also be overridden by supplying a value, i.e:"
   ]
  },
  {
   "cell_type": "code",
   "execution_count": 13,
   "metadata": {},
   "outputs": [
    {
     "name": "stdout",
     "output_type": "stream",
     "text": [
      "Manager Paul Gantt\n"
     ]
    }
   ],
   "source": [
    "display_name_title(\"Paul Gantt\", \"Manager\")"
   ]
  },
  {
   "cell_type": "markdown",
   "metadata": {},
   "source": [
    "If we have a variable number of parameters that we want to use we can use the **`args`** keyword. Let's say we had team members and the number could be different."
   ]
  },
  {
   "cell_type": "code",
   "execution_count": 14,
   "metadata": {
    "collapsed": true
   },
   "outputs": [],
   "source": [
    "def team_players(*args):\n",
    "    for arg in args:\n",
    "        print(arg)"
   ]
  },
  {
   "cell_type": "code",
   "execution_count": 15,
   "metadata": {},
   "outputs": [
    {
     "name": "stdout",
     "output_type": "stream",
     "text": [
      "Adam\n",
      "David\n",
      "Barry\n",
      "Steve\n"
     ]
    }
   ],
   "source": [
    "team_players(\"Adam\", \"David\", \"Barry\", \"Steve\")"
   ]
  },
  {
   "cell_type": "code",
   "execution_count": 16,
   "metadata": {},
   "outputs": [
    {
     "name": "stdout",
     "output_type": "stream",
     "text": [
      "Paul\n",
      "Stan\n"
     ]
    }
   ],
   "source": [
    "team_players(\"Paul\", \"Stan\")"
   ]
  },
  {
   "cell_type": "markdown",
   "metadata": {},
   "source": [
    "We can also pass in key, value pairs similar to how a dictionary works using the **`kwargs`** keyword (key word arguments):"
   ]
  },
  {
   "cell_type": "code",
   "execution_count": 17,
   "metadata": {
    "collapsed": true
   },
   "outputs": [],
   "source": [
    "def team_data(**kwargs):\n",
    "    for key, value in kwargs.items():\n",
    "        print(key, \":\", value)"
   ]
  },
  {
   "cell_type": "code",
   "execution_count": 18,
   "metadata": {},
   "outputs": [
    {
     "name": "stdout",
     "output_type": "stream",
     "text": [
      "team_name : Liverpool Lions\n",
      "top_score : 56\n",
      "date_last_played : 02-03-2019\n"
     ]
    }
   ],
   "source": [
    "team_data(team_name = 'Liverpool Lions', top_score = 56, date_last_played = '02-03-2019')"
   ]
  },
  {
   "cell_type": "markdown",
   "metadata": {},
   "source": [
    "<div class=\"alert alert-success\">\n",
    "<b>Note:</b> For more than around 3 parameters we would typically use a data structure like a <code>list</code> or <code>dict</code> to keep the code cleaner and store the arguments we want to pass into a function rather than having a massive list of comma separated parameters. \n",
    "</div>"
   ]
  },
  {
   "cell_type": "markdown",
   "metadata": {
    "cell_style": "split"
   },
   "source": [
    "<img src=\"./intro_images/circ.png\" width=\"90%\" align=\"left\" />"
   ]
  },
  {
   "cell_type": "code",
   "execution_count": 24,
   "metadata": {
    "cell_style": "split"
   },
   "outputs": [
    {
     "name": "stdout",
     "output_type": "stream",
     "text": [
      "Circumference =  37.69911184307752\n",
      "Radius =  6.0\n",
      "Area = 113.09733552923255\n"
     ]
    }
   ],
   "source": [
    "import math\n",
    "\n",
    "diameter = 12\n",
    "\n",
    "def circles(d):\n",
    "    c = math.pi * d\n",
    "    r = d / 2\n",
    "    a = math.pi * r**2\n",
    "    \n",
    "    print(\"Circumference = \",c)\n",
    "    print(\"Radius = \",r)\n",
    "    print(\"Area =\", a)\n",
    "    \n",
    "circles(diameter)"
   ]
  },
  {
   "cell_type": "markdown",
   "metadata": {
    "solution2": "hidden",
    "solution2_first": true
   },
   "source": [
    "<div class=\"alert alert-block alert-info\">\n",
    "<b>Task 2:</b>\n",
    "<br>\n",
    "Regarding the function above that outputs the circumference, radius and area of a circle given a diameter.<br /> \n",
    "1. How could the function be redesigned to be more modular and reusable?<br />\n",
    "2. Have a go reimplementing this function as several smaller functions that carry out a specific task (i.e. one for circumference, area and radius).\n",
    "</div>"
   ]
  },
  {
   "cell_type": "code",
   "execution_count": 27,
   "metadata": {
    "solution2": "hidden"
   },
   "outputs": [
    {
     "name": "stdout",
     "output_type": "stream",
     "text": [
      "Circumference =  37.69911184307752\n",
      "Radius =  6.0\n",
      "Area = 113.09733552923255\n"
     ]
    }
   ],
   "source": [
    "import math\n",
    "\n",
    "def circle_circumference(d):\n",
    "    return math.pi * d\n",
    "\n",
    "def circle_radius(d):\n",
    "    return d / 2\n",
    "\n",
    "def circle_area(d):\n",
    "    return math.pi * (d/2)**2\n",
    "\n",
    "diameter = 12\n",
    "print(\"Circumference = \",circle_circumference(diameter))\n",
    "print(\"Radius = \",circle_radius(diameter))\n",
    "print(\"Area =\", circle_area(diameter))"
   ]
  },
  {
   "cell_type": "code",
   "execution_count": null,
   "metadata": {
    "collapsed": true
   },
   "outputs": [],
   "source": []
  },
  {
   "cell_type": "markdown",
   "metadata": {},
   "source": [
    "#### 1.1 Function comments"
   ]
  },
  {
   "cell_type": "markdown",
   "metadata": {},
   "source": [
    "It can be a good idea to provide function level comments to your code to explain what a function does. The level of detail is up to you. Here are two examples. The first is a lightweight approach the second provides more detail about the usage of the function. "
   ]
  },
  {
   "cell_type": "code",
   "execution_count": 29,
   "metadata": {
    "collapsed": true
   },
   "outputs": [],
   "source": [
    "# function to return result of addtion of two mumbers\n",
    "def add_two_nums(n1, n2):\n",
    "    return n1 + n2"
   ]
  },
  {
   "cell_type": "code",
   "execution_count": null,
   "metadata": {
    "collapsed": true
   },
   "outputs": [],
   "source": [
    "# ---------------------------------------------------------------------------------\n",
    "# FUNCTION:     add_two_nums\n",
    "# INPUT:        int, int\n",
    "# OUTPUT:       int\n",
    "# DESCRIPTION:  Function to return result of addtion of two mumbers\n",
    "#               \n",
    "# ---------------------------------------------------------------------------------\n",
    "def add_two_nums(n1, n2):\n",
    "    return n1 + n2"
   ]
  },
  {
   "cell_type": "markdown",
   "metadata": {},
   "source": [
    "In Python there is a special convention for using comments with functions called a document string **`docstring`**. "
   ]
  },
  {
   "cell_type": "code",
   "execution_count": 30,
   "metadata": {
    "collapsed": true
   },
   "outputs": [],
   "source": [
    "def add_two_nums(n1, n2):\n",
    "    \"\"\"Function to return result of addtion of two mumbers.\"\"\"\n",
    "    return n1 + n2"
   ]
  },
  {
   "cell_type": "markdown",
   "metadata": {},
   "source": [
    "The purpose is for use with the **`help()`** function that picks up and uses this information. "
   ]
  },
  {
   "cell_type": "code",
   "execution_count": 31,
   "metadata": {},
   "outputs": [
    {
     "name": "stdout",
     "output_type": "stream",
     "text": [
      "Help on function add_two_nums in module __main__:\n",
      "\n",
      "add_two_nums(n1, n2)\n",
      "    Function to return result of addtion of two mumbers.\n",
      "\n"
     ]
    }
   ],
   "source": [
    "help(add_two_nums)"
   ]
  },
  {
   "cell_type": "markdown",
   "metadata": {},
   "source": [
    "Or to view the docstring directly (there are 2 underscores either side of doc). "
   ]
  },
  {
   "cell_type": "code",
   "execution_count": 32,
   "metadata": {},
   "outputs": [
    {
     "name": "stdout",
     "output_type": "stream",
     "text": [
      "Function to return result of addtion of two mumbers.\n"
     ]
    }
   ],
   "source": [
    "print(add_two_nums.__doc__)"
   ]
  },
  {
   "cell_type": "markdown",
   "metadata": {},
   "source": [
    "There are various different style for multi-line docstrings you can use, such the Numpy style."
   ]
  },
  {
   "cell_type": "code",
   "execution_count": 34,
   "metadata": {
    "collapsed": true
   },
   "outputs": [],
   "source": [
    "def add_two_nums(n1, n2):\n",
    "    \"\"\"\n",
    "    Function to return result of addtion of two mumbers\n",
    "    \n",
    "    Parameters\n",
    "    ----------\n",
    "    n1 : int\n",
    "        The first number\n",
    "    n2 : int\n",
    "        The second number\n",
    "    \n",
    "    Returns\n",
    "    -------\n",
    "    n1 + n2\n",
    "        The sum of n1 + n2\n",
    "    \"\"\"\n",
    "    return n1 + n2"
   ]
  },
  {
   "cell_type": "code",
   "execution_count": 35,
   "metadata": {},
   "outputs": [
    {
     "name": "stdout",
     "output_type": "stream",
     "text": [
      "Help on function add_two_nums in module __main__:\n",
      "\n",
      "add_two_nums(n1, n2)\n",
      "    Function to return result of addtion of two mumbers\n",
      "    \n",
      "    Parameters\n",
      "    ----------\n",
      "    n1 : int\n",
      "        The first number\n",
      "    n2 : int\n",
      "        The second number\n",
      "    \n",
      "    Returns\n",
      "    -------\n",
      "    n1 + n2\n",
      "        The sum of n1 + n2\n",
      "\n"
     ]
    }
   ],
   "source": [
    "help(add_two_nums)"
   ]
  },
  {
   "cell_type": "markdown",
   "metadata": {},
   "source": [
    "Of course you don't have to add comments to your functions but picking a consistent method and using it to document your functions increases the readability of your code, especially for large programs with multiple contributors. This will save people having to read the code to try and work out what the function does. Combining this documentation with clear and descriptive variable and function names is very helpful to aid others (and yourself if you return to the code later) in understanding what your function does and how it is intended to be used. "
   ]
  },
  {
   "cell_type": "markdown",
   "metadata": {
    "solution2": "hidden",
    "solution2_first": true
   },
   "source": [
    "<div class=\"alert alert-block alert-info\">\n",
    "<b>Task 3:</b>\n",
    "<br> \n",
    "1. Write a function to calculate Body Mass Index (BMI) $$BMI = w \\div h^2 $$ This is the weight in kilograms divided by the height in meters squared.<br />\n",
    "2. Using <code>if</code> statements in the function - print out the weight classification: less than 18.5 is *underweight*, between 18.5 and 24.9 is *healthy weight* and more than 24.9 is *overweight*.\n",
    "</div>"
   ]
  },
  {
   "cell_type": "code",
   "execution_count": 45,
   "metadata": {
    "solution2": "hidden"
   },
   "outputs": [
    {
     "name": "stdout",
     "output_type": "stream",
     "text": [
      "BMI = 31\n",
      "Overweight\n"
     ]
    }
   ],
   "source": [
    "def calculate_BMI(weight_kg, height_m):\n",
    "    BMI = weight_kg / height_m**2\n",
    "    print(\"BMI =\", round(BMI))\n",
    "    if BMI < 18.5:\n",
    "        print(\"Underweight\")\n",
    "    elif BMI >= 18.5 and BMI <= 24.9:\n",
    "        print(\"Healthy weight\")\n",
    "    elif BMI > 24.9:\n",
    "        print(\"Overweight\")\n",
    "        \n",
    "calculate_BMI(70, 1.5)"
   ]
  },
  {
   "cell_type": "code",
   "execution_count": null,
   "metadata": {
    "collapsed": true
   },
   "outputs": [],
   "source": []
  },
  {
   "cell_type": "markdown",
   "metadata": {},
   "source": [
    "#### 1.2 Variable scope"
   ]
  },
  {
   "cell_type": "markdown",
   "metadata": {},
   "source": [
    "You can think of the code inside a function as self-contained. This means that a variable with the same name inside a function is actually a different variable to one with the same name outside of a function. This is best illustrated with an example."
   ]
  },
  {
   "cell_type": "code",
   "execution_count": 37,
   "metadata": {},
   "outputs": [
    {
     "name": "stdout",
     "output_type": "stream",
     "text": [
      "x inside function = 7\n",
      "x outside function = 10\n"
     ]
    }
   ],
   "source": [
    "x = 10\n",
    "\n",
    "def my_function():\n",
    "    x = 7    \n",
    "    print(\"x inside function =\", x)\n",
    "    \n",
    "my_function()\n",
    "print(\"x outside function =\", x)"
   ]
  },
  {
   "cell_type": "markdown",
   "metadata": {},
   "source": [
    "Here we have 2 variables both called **`x`**. The version of x outside of the function contains the value 10, whereas the one inside the function contains the value 7. These are 2 separate variables both with the same name. This is termed the **`scope`** of the variable. We can see when we print the values that we get 2 different results (10 and 7). One way to increase the scope of a variable is to give it **`global`** scope by making it what is referred to as a **`global variable`**."
   ]
  },
  {
   "cell_type": "code",
   "execution_count": 38,
   "metadata": {},
   "outputs": [
    {
     "name": "stdout",
     "output_type": "stream",
     "text": [
      "x = 15\n"
     ]
    }
   ],
   "source": [
    "x = 10\n",
    "\n",
    "def my_function():\n",
    "    global x \n",
    "    x = x + 5\n",
    "    print(\"x =\", x)\n",
    "    \n",
    "my_function()"
   ]
  },
  {
   "cell_type": "markdown",
   "metadata": {},
   "source": [
    "Here we can use the **`global`** keyword to tell Python that the x in the function is actually the same x as the one outside. Now when we add 5 to the value of x (which is 10) we get 15."
   ]
  },
  {
   "cell_type": "markdown",
   "metadata": {
    "solution2": "hidden",
    "solution2_first": true
   },
   "source": [
    "<div class=\"alert alert-block alert-info\">\n",
    "<b>Task 3:</b>\n",
    "<br> \n",
    "1. Try removing the <code>global</code> keyword from the code above and passing <code>x</code> into the function as a parameter.<br />\n",
    "2. Print the value of <code>x</code> inside the function and after calling the function.<br />\n",
    "3. What do you expect the value of <code>x</code> to be in both cases?\n",
    "</div>"
   ]
  },
  {
   "cell_type": "code",
   "execution_count": 39,
   "metadata": {
    "solution2": "hidden"
   },
   "outputs": [
    {
     "name": "stdout",
     "output_type": "stream",
     "text": [
      "x in function = 15\n",
      "x = 10\n"
     ]
    }
   ],
   "source": [
    "x = 10\n",
    "\n",
    "def my_function(x):\n",
    "    x = x + 5\n",
    "    print(\"x in function =\", x)\n",
    "    \n",
    "my_function(x)\n",
    "print(\"x =\", x)"
   ]
  },
  {
   "cell_type": "code",
   "execution_count": null,
   "metadata": {
    "collapsed": true
   },
   "outputs": [],
   "source": []
  },
  {
   "cell_type": "markdown",
   "metadata": {},
   "source": [
    "<div class=\"alert alert-success\">\n",
    "<b>Note:</b> Global variables are useful when you want to share a value with many functions and want to avoid passing it in and out of multiple functions. It is good practice however to use the smallest number of global variables needed. \n",
    "</div>"
   ]
  },
  {
   "cell_type": "markdown",
   "metadata": {},
   "source": [
    "#### 1.3 Anonymous functions"
   ]
  },
  {
   "cell_type": "markdown",
   "metadata": {},
   "source": [
    "Sometimes you need to write a quick disposable one time function to carry out some task and don't want to declare a complete function. Python achieves this with what are known as **`lambda`** functions. Consider writing a function to return the sum of two numbers. We might write a function that looks something like this:"
   ]
  },
  {
   "cell_type": "code",
   "execution_count": 40,
   "metadata": {
    "collapsed": true
   },
   "outputs": [],
   "source": [
    "def add_numbers(n1, n2):\n",
    "    return n1 + n2"
   ]
  },
  {
   "cell_type": "code",
   "execution_count": 41,
   "metadata": {},
   "outputs": [
    {
     "name": "stdout",
     "output_type": "stream",
     "text": [
      "Result = 7\n"
     ]
    }
   ],
   "source": [
    "print(\"Result =\", add_numbers(2, 5))"
   ]
  },
  {
   "cell_type": "markdown",
   "metadata": {},
   "source": [
    "We can achieve the same with a throw away lambda function, which is useful if we just want to use a function once."
   ]
  },
  {
   "cell_type": "code",
   "execution_count": 42,
   "metadata": {},
   "outputs": [
    {
     "name": "stdout",
     "output_type": "stream",
     "text": [
      "Result = 10\n"
     ]
    }
   ],
   "source": [
    "add_nums = lambda n1, n2: n1 + n2\n",
    "print(\"Result =\", add_nums(8, 2))"
   ]
  },
  {
   "cell_type": "markdown",
   "metadata": {},
   "source": [
    "This can be made even more efficient using a single of line of code:"
   ]
  },
  {
   "cell_type": "code",
   "execution_count": 44,
   "metadata": {},
   "outputs": [
    {
     "name": "stdout",
     "output_type": "stream",
     "text": [
      "Result = 5\n"
     ]
    }
   ],
   "source": [
    "print(\"Result =\", (lambda n1, n2: n1 + n2)(3, 2))"
   ]
  },
  {
   "cell_type": "markdown",
   "metadata": {},
   "source": [
    "#### 1.4 Recursion"
   ]
  },
  {
   "cell_type": "markdown",
   "metadata": {},
   "source": [
    "Another concept relating to functions is that of **`recursion`**. We have seen how we can use **`iteration`** in the form of loops to repeat actions. We can also have nested loops and this nesting can be very deep. There is however a limit to this. To overcome this we can use recursion to get a function to call itself over and over. Certain problems lend themselves to recursion and it is a technique often used in algorithm design."
   ]
  },
  {
   "cell_type": "markdown",
   "metadata": {},
   "source": [
    "Let's look at a classic problem that can be solved with recursion. The **`tower of Hanoi`**. This is mathematical  puzzle  where you have 3 pegs and have to move disks from one peg to another one at time such that no larger disk can be on-top of a smaller disk. The task is to do this in the minimum amount of moves possible. The animation below shows this in action."
   ]
  },
  {
   "cell_type": "markdown",
   "metadata": {},
   "source": [
    "<img src=\"./intro_images/tower.gif\" width=\"500\" />"
   ]
  },
  {
   "cell_type": "markdown",
   "metadata": {},
   "source": [
    "So if we write a function that calls itself and pass in the number of disks (4) we can see how many moves it takes (15). You can count the moves in the animation to check."
   ]
  },
  {
   "cell_type": "code",
   "execution_count": 47,
   "metadata": {
    "collapsed": true
   },
   "outputs": [],
   "source": [
    "def hanoi(n):\n",
    "    if n == 1:\n",
    "        return 1\n",
    "    return (2 * hanoi(n-1) + 1)"
   ]
  },
  {
   "cell_type": "code",
   "execution_count": 48,
   "metadata": {},
   "outputs": [
    {
     "name": "stdout",
     "output_type": "stream",
     "text": [
      "Number of moves for 4 disks = 15\n"
     ]
    }
   ],
   "source": [
    "print(\"Number of moves for 4 disks =\", hanoi(4))"
   ]
  },
  {
   "cell_type": "markdown",
   "metadata": {},
   "source": [
    "For 4 disks it is actually doing this:<br />\n",
    "$ = 2 \\times hanoi(3) + 1 $ <br />\n",
    "$ = 2 \\times (2 \\times hanoi(2) + 1) + 1 $ <br />\n",
    "$ = 2 \\times (2 \\times (2 \\times hanoi(1) + 1) + 1) + 1 $ <br />\n",
    "$ = 2 \\times (2 \\times (2 \\times 1 + 1) + 1) + 1 $ <br />\n",
    "$ = 2 \\times (2 \\times (3) + 1) + 1 $ <br />\n",
    "$ = 2 \\times (7) + 1 $ <br />\n",
    "$ = 15 $"
   ]
  },
  {
   "cell_type": "markdown",
   "metadata": {},
   "source": [
    "The **`Fibonacci`** sequence is a number sequence (featured in The Davinci code book and film) where the next number in the sequence is found by summing the previous 2 numbers in the sequence. It looks like this:<br />\n",
    "$$0, 1, 1, 2, 3, 5, 8, 13, 21, 34, ... $$\n",
    "So $(0 + 1 = 1)$ and $(1 + 1 = 2)$ and $(1 + 2 = 3)$ and so on."
   ]
  },
  {
   "cell_type": "markdown",
   "metadata": {
    "solution2": "hidden",
    "solution2_first": true
   },
   "source": [
    "<div class=\"alert alert-block alert-info\">\n",
    "<b>Task 4:</b>\n",
    "<br> \n",
    "Given the information above about the Fibonacci sequence: <br />\n",
    "Write a function using <code>recursion</code> to return a value of the sequence provided as input to the function.<br />\n",
    "Hint: You will need to use a loop when calling the function to print the results and pass the loop counter into the function i.e.<br />\n",
    "<code>\n",
    "n = 6\n",
    "for i in range(n):\n",
    "    print(fib_sequence(i), \" \", end=\"\")\n",
    "</code>\n",
    "</div>"
   ]
  },
  {
   "cell_type": "code",
   "execution_count": 60,
   "metadata": {
    "solution2": "hidden"
   },
   "outputs": [
    {
     "name": "stdout",
     "output_type": "stream",
     "text": [
      "0  1  1  2  3  5  "
     ]
    }
   ],
   "source": [
    "def fib_sequence(n):\n",
    "    if n <= 1:\n",
    "        return n\n",
    "    else:\n",
    "        return fib_sequence(n-1) + fib_sequence(n-2)\n",
    "\n",
    "n = 6\n",
    "for i in range(n):\n",
    "    print(fib_sequence(i), \" \", end=\"\")"
   ]
  },
  {
   "cell_type": "code",
   "execution_count": null,
   "metadata": {
    "collapsed": true
   },
   "outputs": [],
   "source": []
  },
  {
   "cell_type": "markdown",
   "metadata": {
    "collapsed": true
   },
   "source": [
    "#### Notebook details\n",
    "<br>\n",
    "<i>Notebook created by <strong>Dr. Alan Davies</strong> with, <strong>Frances Hooley</strong> \n",
    "    \n",
    "\n",
    "Publish date: October 2020<br>\n",
    "Review date: October 2021</i>\n",
    "\n",
    "Please give your feedback using the button below:\n",
    "\n",
    "<a class=\"typeform-share button\" href=\"https://form.typeform.com/to/YMpwLTNy\" data-mode=\"popup\" style=\"display:inline-block;text-decoration:none;background-color:#3A7685;color:white;cursor:pointer;font-family:Helvetica,Arial,sans-serif;font-size:18px;line-height:45px;text-align:center;margin:0;height:45px;padding:0px 30px;border-radius:22px;max-width:100%;white-space:nowrap;overflow:hidden;text-overflow:ellipsis;font-weight:bold;-webkit-font-smoothing:antialiased;-moz-osx-font-smoothing:grayscale;\" target=\"_blank\">Rate this notebook </a> <script> (function() { var qs,js,q,s,d=document, gi=d.getElementById, ce=d.createElement, gt=d.getElementsByTagName, id=\"typef_orm_share\", b=\"https://embed.typeform.com/\"; if(!gi.call(d,id)){ js=ce.call(d,\"script\"); js.id=id; js.src=b+\"embed.js\"; q=gt.call(d,\"script\")[0]; q.parentNode.insertBefore(js,q) } })() </script>"
   ]
  },
  {
   "cell_type": "code",
   "execution_count": null,
   "metadata": {},
   "outputs": [],
   "source": []
  }
 ],
 "metadata": {
  "hide_input": false,
  "kernelspec": {
   "display_name": "Python 3",
   "language": "python",
   "name": "python3"
  },
  "language_info": {
   "codemirror_mode": {
    "name": "ipython",
    "version": 3
   },
   "file_extension": ".py",
   "mimetype": "text/x-python",
   "name": "python",
   "nbconvert_exporter": "python",
   "pygments_lexer": "ipython3",
   "version": "3.7.3"
  }
 },
 "nbformat": 4,
 "nbformat_minor": 2
}
