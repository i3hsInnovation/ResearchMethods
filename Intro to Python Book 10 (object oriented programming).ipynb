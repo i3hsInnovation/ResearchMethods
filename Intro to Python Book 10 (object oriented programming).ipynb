{
 "cells": [
  {
   "cell_type": "markdown",
   "metadata": {},
   "source": [
    "<img src=\"./intro_images/introbanner.png\" width=\"100%\" align=\"left\" />"
   ]
  },
  {
   "cell_type": "markdown",
   "metadata": {},
   "source": [
    "<table style=\"float:right;\">\n",
    "    <tr>\n",
    "        <td>                      \n",
    "            <div style=\"text-align: right\"><a href=\"https://alandavies.netlify.com\" target=\"_blank\">Dr Alan Davies</a></div>\n",
    "            <div style=\"text-align: right\">Lecturer health data science</div>\n",
    "            <div style=\"text-align: right\">University of Manchester</div>\n",
    "         </td>\n",
    "         <td>\n",
    "             <img src=\"./intro_images/alan.png\" width=\"30%\" />\n",
    "         </td>\n",
    "     </tr>\n",
    "</table>"
   ]
  },
  {
   "cell_type": "markdown",
   "metadata": {},
   "source": [
    "# Object Oriented Programming\n",
    "****"
   ]
  },
  {
   "cell_type": "markdown",
   "metadata": {},
   "source": [
    "#### About this Notebook\n",
    "\n",
    "This notebook looks at how Python supports **Object Orientated Programming** (OOP). This is essentially a way of storing multiple functions and variables that are in some way semantically related together. \n",
    "\n",
    "This notebook is at <code>Beginner</code> level and will take approximately 1 hour to complete.\n",
    "\n",
    "<div class=\"alert alert-block alert-warning\"><b>Learning Objectives:</b> \n",
    "<br/> This notebook will help you start to:\n",
    "    \n",
    "- Express a clear understanding of the basic principles of the Python programming language.\n",
    "- Explain the features of Python that support object-oriented programming\n",
    "\n",
    "</div>"
   ]
  },
  {
   "cell_type": "markdown",
   "metadata": {},
   "source": [
    "Consider building a system that could model health interactions. We could create **`objects`** to represent the key elements of this system such as doctors, nurses and patients. To do this we can design a **`class`** for each of these that **`encapsulates`** various functions (called methods) and variables (attributes). Let's start by building a basic class for a doctor."
   ]
  },
  {
   "cell_type": "code",
   "execution_count": 1,
   "metadata": {
    "collapsed": true
   },
   "outputs": [],
   "source": [
    "class Doctor:\n",
    "    def __init__(self, name, role):\n",
    "        self.name = name\n",
    "        self.role = role"
   ]
  },
  {
   "cell_type": "markdown",
   "metadata": {},
   "source": [
    "So here is a basic class containing one method called **`__init__`** (2 underscores, the word init and 2 more underscores) that takes some parameters for the type of doctor and their name and stores these in variables inside the class. A class is like a blueprint where an object is like a specific instance. This would be like having class **phone** and then an instance of this called **iPhone** or a class called **car** with an instance called **Mini**. "
   ]
  },
  {
   "cell_type": "markdown",
   "metadata": {},
   "source": [
    "<div class=\"alert alert-success\">\n",
    "<b>Note:</b> Class names tend to start with capital letters to distinguish them from other variables and functions. \n",
    "</div>"
   ]
  },
  {
   "cell_type": "markdown",
   "metadata": {},
   "source": [
    "The **`__init__`** function is what is known as the class **`constructor`**. You can think of this as a default initialisation function that gets run when you create an instance of the object. The constructor doesn't have to have any values other than the **`self`** keyword. In the other methods the **`self`** keyword is used to tell Python that we are referring to the variable in the instance of the object (it's own copy of the variable).  "
   ]
  },
  {
   "cell_type": "markdown",
   "metadata": {},
   "source": [
    "Here we can create 2 instances of the Doctor class and customise their parameters. "
   ]
  },
  {
   "cell_type": "code",
   "execution_count": 24,
   "metadata": {
    "collapsed": true
   },
   "outputs": [],
   "source": [
    "my_doctor = Doctor(\"Sandra Clark\", \"Cardiac consultant\")"
   ]
  },
  {
   "cell_type": "code",
   "execution_count": 25,
   "metadata": {
    "collapsed": true
   },
   "outputs": [],
   "source": [
    "another_doctor = Doctor(\"Mike Smith\", \"Respiratory F1\")"
   ]
  },
  {
   "cell_type": "markdown",
   "metadata": {},
   "source": [
    "Here we have made 2 instances of our doctor class (like 2 copies that we can then customize). Another way to think about classes and instances is that the class is like the blueprint you give to a machine in the factory to manufacture some item. It specifies the item. When the machine starts to produce items (instances) the items can then be customized. Image a machine that makes a certain type of car. Once manufactured, each car can be customized. Maybe you spray them a different colour for example. \n",
    "<br /><br />\n",
    "Lets add some methods to the class:"
   ]
  },
  {
   "cell_type": "code",
   "execution_count": 6,
   "metadata": {
    "collapsed": true
   },
   "outputs": [],
   "source": [
    "class Doctor:\n",
    "    def __init__(self, name, role):\n",
    "        self.name = name\n",
    "        self.role = role\n",
    "        self.patients_processed = 0\n",
    "        \n",
    "    def admit_patient(self, patient):\n",
    "        print(self.name, \"will admit patient\", patient)\n",
    "        self.process_patient()\n",
    "    \n",
    "    def diagnose_patient(self, patient):\n",
    "        print(self.name, \"will diagnose patient\", patient)\n",
    "        self.process_patient()\n",
    "    \n",
    "    def discharge_patient(self, patient):\n",
    "        print(self.name, \"will discharge patient\", patient)\n",
    "        self.process_patient()\n",
    "        \n",
    "    def process_patient(self):\n",
    "        self.patients_processed += 1\n",
    "        \n",
    "    def number_of_times_patients_processed(self):\n",
    "        return self.patients_processed"
   ]
  },
  {
   "cell_type": "code",
   "execution_count": 7,
   "metadata": {},
   "outputs": [
    {
     "name": "stdout",
     "output_type": "stream",
     "text": [
      "Sandra Clark will admit patient Alan\n",
      "Sandra Clark will diagnose patient Alan\n",
      "Sandra Clark will discharge patient Alan\n",
      "Mike Smith will admit patient Jane\n",
      "Mike Smith will discharge patient Jane\n",
      "Sandra processed patients 3 times\n",
      "Mike processed patients 2 times\n"
     ]
    }
   ],
   "source": [
    "patient_1 = \"Alan\"\n",
    "patient_2 = \"Jane\"\n",
    "\n",
    "sandra = Doctor(\"Sandra Clark\", \"Cardiac consultant\")\n",
    "mike = Doctor(\"Mike Smith\", \"Respiratory F1\")\n",
    "\n",
    "sandra.admit_patient(patient_1)\n",
    "sandra.diagnose_patient(patient_1)\n",
    "sandra.discharge_patient(patient_1)\n",
    "\n",
    "mike.admit_patient(patient_2)\n",
    "mike.discharge_patient(patient_2)\n",
    "\n",
    "print(\"Sandra processed patients\", sandra.number_of_times_patients_processed(), \"times\")\n",
    "print(\"Mike processed patients\", mike.number_of_times_patients_processed(), \"times\")"
   ]
  },
  {
   "cell_type": "markdown",
   "metadata": {},
   "source": [
    "To access methods in the class we type the object instance name (i.e. **`sandra`**) followed by a dot (period) and then the method we want to call i.e. **`admit_patient()`**. We also have to use the **`self`** keyword before variables and functions contained within a class to tell Python that they belong to this particular instance of the class."
   ]
  },
  {
   "cell_type": "markdown",
   "metadata": {
    "solution2": "hidden",
    "solution2_first": true
   },
   "source": [
    "<div class=\"alert alert-block alert-info\">\n",
    "<b>Task 1:</b>\n",
    "<br> \n",
    "1. Write a method in the class called <code>current_role</code> that outputs the doctors role.<br />\n",
    "2. Create a new doctor instance called <code>mary</code> and call the new method.<br />\n",
    "3. Make Mary a <code>neurologist</code> (kidney doctor)\n",
    "</div>"
   ]
  },
  {
   "cell_type": "code",
   "execution_count": 26,
   "metadata": {
    "collapsed": true,
    "solution2": "hidden"
   },
   "outputs": [],
   "source": [
    "class Doctor:\n",
    "    def __init__(self, name, role):\n",
    "        self.name = name\n",
    "        self.role = role\n",
    "        self.patients_processed = 0\n",
    "        \n",
    "    def admit_patient(self, patient):\n",
    "        print(self.name, \"will admit patient\", patient)\n",
    "        self.process_patient()\n",
    "    \n",
    "    def diagnose_patient(self, patient):\n",
    "        print(self.name, \"will diagnose patient\", patient)\n",
    "        self.process_patient()\n",
    "    \n",
    "    def discharge_patient(self, patient):\n",
    "        print(self.name, \"will discharge patient\", patient)\n",
    "        self.process_patient()\n",
    "        \n",
    "    def process_patient(self):\n",
    "        self.patients_processed += 1\n",
    "        \n",
    "    def number_of_times_patients_processed(self):\n",
    "        return self.patients_processed\n",
    "    \n",
    "    def current_role(self):\n",
    "        print(\"My role is:\", self.role)"
   ]
  },
  {
   "cell_type": "code",
   "execution_count": 27,
   "metadata": {
    "solution2": "hidden"
   },
   "outputs": [
    {
     "name": "stdout",
     "output_type": "stream",
     "text": [
      "My role is: Neurologist\n"
     ]
    }
   ],
   "source": [
    "mary = Doctor(\"Mary\", \"Neurologist\")\n",
    "mary.current_role()"
   ]
  },
  {
   "cell_type": "code",
   "execution_count": null,
   "metadata": {
    "collapsed": true
   },
   "outputs": [],
   "source": []
  },
  {
   "cell_type": "code",
   "execution_count": null,
   "metadata": {
    "collapsed": true
   },
   "outputs": [],
   "source": []
  },
  {
   "cell_type": "markdown",
   "metadata": {},
   "source": [
    "Another way we can represent classes and design them/show interactions between them is by making a class diagram:"
   ]
  },
  {
   "cell_type": "markdown",
   "metadata": {},
   "source": [
    "<img src=\"./intro_images/doctor.png\" width=\"500\" />"
   ]
  },
  {
   "cell_type": "markdown",
   "metadata": {},
   "source": [
    "The diagram shows the class name at the top followed by the attributes (variables) and what data type they represent. The next section shows the class methods and their inputs."
   ]
  },
  {
   "cell_type": "markdown",
   "metadata": {},
   "source": [
    "So far we have been representing our patients as simple strings. Let's make a patient class so that it can interact with our doctor class. We can give the patients a name, age, hospital number, presenting problem, diagnosis and past medical history. "
   ]
  },
  {
   "cell_type": "code",
   "execution_count": 10,
   "metadata": {
    "collapsed": true
   },
   "outputs": [],
   "source": [
    "class Patient:\n",
    "    def __init__(self, name, hospital_number, presenting_complaint):\n",
    "        self.name = name\n",
    "        self.hospital_number = hospital_number\n",
    "        self.presenting_complaint = presenting_complaint\n",
    "        self.PMH = []\n",
    "        self.diagnosis = None\n",
    "        \n",
    "    def add_medical_history(self, medical_history_item):\n",
    "        self.PMH.append(medical_history_item)\n",
    "        \n",
    "    def get_medical_history(self):\n",
    "        return self.PMH\n",
    "    \n",
    "    def show_diagnosis(self):\n",
    "        return self.diagnosis\n",
    "    \n",
    "    def update_diagnosis(self, diagnosis):\n",
    "        self.diagnosis = diagnosis\n",
    "        \n",
    "    def whats_wrong(self):\n",
    "        return self.presenting_complaint"
   ]
  },
  {
   "cell_type": "markdown",
   "metadata": {},
   "source": [
    "Now let's make some patients and give them some past and current medical problems."
   ]
  },
  {
   "cell_type": "code",
   "execution_count": 11,
   "metadata": {
    "collapsed": true
   },
   "outputs": [],
   "source": [
    "john = Patient(\"John Miles\", 123456, \"Abdominal pain\")\n",
    "john.add_medical_history(\"Gout\")\n",
    "john.add_medical_history(\"IHD\")\n",
    "john.add_medical_history(\"MS\")\n",
    "\n",
    "jane = Patient(\"Jane Smith\", 344532, \"Chest pain\")\n",
    "jane.add_medical_history(\"Hypertension\")\n",
    "jane.add_medical_history(\"Type II diabetes\")"
   ]
  },
  {
   "cell_type": "code",
   "execution_count": 12,
   "metadata": {},
   "outputs": [
    {
     "name": "stdout",
     "output_type": "stream",
     "text": [
      "['Gout', 'IHD', 'MS']\n",
      "['Hypertension', 'Type II diabetes']\n"
     ]
    }
   ],
   "source": [
    "print(john.get_medical_history())\n",
    "print(jane.get_medical_history())"
   ]
  },
  {
   "cell_type": "markdown",
   "metadata": {},
   "source": [
    "Now let's update our doctor class to work better with our patient class."
   ]
  },
  {
   "cell_type": "code",
   "execution_count": 13,
   "metadata": {
    "collapsed": true
   },
   "outputs": [],
   "source": [
    "class Doctor:\n",
    "    def __init__(self, name, role):\n",
    "        self.name = name\n",
    "        self.role = role\n",
    "        self.patients_processed = 0\n",
    "        \n",
    "    def admit_patient(self, patient):\n",
    "        print(self.name, \"will admit patient\", patient)\n",
    "        self.process_patient()\n",
    "    \n",
    "    def diagnose_patient(self, patient, presenting_complaint):\n",
    "        diagnosis = \"\"\n",
    "        print(self.name, \"will diagnose patient\", patient)\n",
    "        self.process_patient()\n",
    "        if presenting_complaint == \"Abdominal pain\":\n",
    "            diagnosis = \"Gall stones\"\n",
    "        elif presenting_complaint == \"Chest pain\":\n",
    "            diagnosis = \"Myocardial infarction (heart attack)\"\n",
    "        else:\n",
    "            diagnosis = \"Unknown - need to run more tests\"\n",
    "        \n",
    "        return diagnosis\n",
    "         \n",
    "    def process_patient(self):\n",
    "        self.patients_processed += 1\n",
    "        \n",
    "    def number_of_times_patients_processed(self):\n",
    "        return self.patients_processed"
   ]
  },
  {
   "cell_type": "markdown",
   "metadata": {
    "solution2": "hidden",
    "solution2_first": true
   },
   "source": [
    "<div class=\"alert alert-block alert-info\">\n",
    "<b>Task 2:</b>\n",
    "<br> \n",
    "1. Write a method in the class called <code>discharge_patient</code> that takes <code>patient</code> as a parameter<br />\n",
    "2. Print the doctors name and state they will discharge the patient.<br />\n",
    "3. Call the <code>process_patient()</code> function\n",
    "</div>"
   ]
  },
  {
   "cell_type": "code",
   "execution_count": 14,
   "metadata": {
    "collapsed": true,
    "solution2": "hidden"
   },
   "outputs": [],
   "source": [
    "class Doctor:\n",
    "    def __init__(self, name, role):\n",
    "        self.name = name\n",
    "        self.role = role\n",
    "        self.patients_processed = 0\n",
    "        \n",
    "    def admit_patient(self, patient):\n",
    "        print(self.name, \"will admit patient\", patient)\n",
    "        self.process_patient()\n",
    "    \n",
    "    def diagnose_patient(self, patient, presenting_complaint):\n",
    "        diagnosis = \"\"\n",
    "        print(self.name, \"will diagnose patient\", patient)\n",
    "        self.process_patient()\n",
    "        if presenting_complaint == \"Abdominal pain\":\n",
    "            diagnosis = \"Gall stones\"\n",
    "        elif presenting_complaint == \"Chest pain\":\n",
    "            diagnosis = \"Myocardial infarction (heart attack)\"\n",
    "        else:\n",
    "            diagnosis = \"Unknown - need to run more tests\"\n",
    "        \n",
    "        return diagnosis\n",
    "    \n",
    "    def discharge_patient(self, patient):\n",
    "        print(self.name, \"will discharge patient\", patient)\n",
    "        self.process_patient()\n",
    "        \n",
    "    def process_patient(self):\n",
    "        self.patients_processed += 1\n",
    "        \n",
    "    def number_of_times_patients_processed(self):\n",
    "        return self.patients_processed"
   ]
  },
  {
   "cell_type": "code",
   "execution_count": null,
   "metadata": {
    "collapsed": true
   },
   "outputs": [],
   "source": []
  },
  {
   "cell_type": "markdown",
   "metadata": {},
   "source": [
    "Now lets use the class"
   ]
  },
  {
   "cell_type": "code",
   "execution_count": 16,
   "metadata": {},
   "outputs": [
    {
     "name": "stdout",
     "output_type": "stream",
     "text": [
      "John's diagnosis = None\n",
      "Mike Smith will admit patient John Miles\n",
      "Mike Smith will diagnose patient John Miles\n"
     ]
    }
   ],
   "source": [
    "print(\"John's diagnosis =\", john.show_diagnosis())\n",
    "mike = Doctor(\"Mike Smith\", \"Respiratory F1\")\n",
    "mike.admit_patient(john.name)\n",
    "john.update_diagnosis(mike.diagnose_patient(john.name, john.whats_wrong()))"
   ]
  },
  {
   "cell_type": "code",
   "execution_count": 17,
   "metadata": {},
   "outputs": [
    {
     "name": "stdout",
     "output_type": "stream",
     "text": [
      "John's diagnosis = Gall stones\n"
     ]
    }
   ],
   "source": [
    "print(\"John's diagnosis =\", john.show_diagnosis())"
   ]
  },
  {
   "cell_type": "markdown",
   "metadata": {},
   "source": [
    "Hopefully you can start to see how we could continue to build this up into a more complex and interconnected system that we could use to start modeling better things and processes in real life. There are 4 main principles of OOP and these include:\n",
    "<ul>\n",
    "    <li>**`Encapsulation`**: Storing the data and methods of an object such that they are invisible and inaccessible to unauthorized parties</li>\n",
    "    <li>**`Abstraction`**: An abstract representation of a thing. The inner working are hidden and are not essential to know in order to interact with the object</li>\n",
    "    <li>**`Inheritance`**: Reusing and extending existing code to make something more specific. i.e. a **`surgeon`** may be based on a super class of **`doctor`** inheriting its methods and attributes and extending them with surgeon specific features</li>\n",
    "    <li>**`Polymorphism`**: Used to process data differently depending on the input and redefine methods for a derived class </li>\n",
    "</ul>"
   ]
  },
  {
   "cell_type": "markdown",
   "metadata": {},
   "source": [
    "We have already been using **`encapsulation`** and **`abstraction`** in the previous examples. But let's look at using **`inheritance`** with an example of making a surgeon from our doctor class. "
   ]
  },
  {
   "cell_type": "code",
   "execution_count": 18,
   "metadata": {
    "collapsed": true
   },
   "outputs": [],
   "source": [
    "class Surgeon(Doctor):\n",
    "    def do_brain_surgery(self, patient):        \n",
    "        print(self.name, \"will do a frontal lobectomy on patient\", patient)\n",
    "        self.process_patient()"
   ]
  },
  {
   "cell_type": "code",
   "execution_count": 19,
   "metadata": {},
   "outputs": [
    {
     "name": "stdout",
     "output_type": "stream",
     "text": [
      "Barry Anderton will admit patient John Miles\n",
      "Barry Anderton will do a frontal lobectomy on patient John Miles\n"
     ]
    }
   ],
   "source": [
    "barry = Surgeon(\"Barry Anderton\", \"Brain surgeon\")\n",
    "barry.admit_patient(john.name)\n",
    "barry.do_brain_surgery(john.name)"
   ]
  },
  {
   "cell_type": "markdown",
   "metadata": {},
   "source": [
    "As you can see the new **`Surgeon`** class has all the functionally of our **`Doctor`** class but with the addition of a method that allows them to carry out a particular surgical procedure. This way we could continue to build up a series of doctors like radiologists, GP's and so on, all of which have the basic doctor functions with a role specific version unique to themselves. "
   ]
  },
  {
   "cell_type": "markdown",
   "metadata": {
    "solution2": "hidden",
    "solution2_first": true
   },
   "source": [
    "<div class=\"alert alert-block alert-info\">\n",
    "<b>Task 3:</b>\n",
    "<br> \n",
    "1. Create a <code>Radiologist</code> class that extends the <code>Doctor</code> class. Give them 2 methods:<br />\n",
    "2. <code>do_xray</code> and <code>do_MRI</code>.<br />\n",
    "3. Create 2 instances of the Radiologist class with each calling one of the 2 methods on <code>Jane</code> and <code>John</code>.\n",
    "</div>"
   ]
  },
  {
   "cell_type": "code",
   "execution_count": 20,
   "metadata": {
    "collapsed": true,
    "solution2": "hidden"
   },
   "outputs": [],
   "source": [
    "class Radiologist(Doctor):\n",
    "    def do_xray(self, patient):\n",
    "        print(self.name, \"Will do an x-ray on patient\", patient)\n",
    "        self.process_patient()\n",
    "    def do_MRI(self, patient):\n",
    "        print(self.name, \"Will do an MRI scan on patient\", patient)\n",
    "        self.process_patient()"
   ]
  },
  {
   "cell_type": "code",
   "execution_count": 22,
   "metadata": {
    "solution2": "hidden"
   },
   "outputs": [
    {
     "name": "stdout",
     "output_type": "stream",
     "text": [
      "Norman Sanders will admit patient Jane Smith\n",
      "Norman Sanders Will do an x-ray on patient Jane Smith\n",
      "Sarah Mullroy will admit patient John Miles\n",
      "Sarah Mullroy Will do an MRI scan on patient John Miles\n"
     ]
    }
   ],
   "source": [
    "norman = Radiologist(\"Norman Sanders\", \"Radiologist\")\n",
    "norman.admit_patient(jane.name)\n",
    "norman.do_xray(jane.name)\n",
    "\n",
    "sarah = Radiologist(\"Sarah Mullroy\", \"Radiologist\")\n",
    "sarah.admit_patient(john.name)\n",
    "sarah.do_MRI(john.name)"
   ]
  },
  {
   "cell_type": "code",
   "execution_count": null,
   "metadata": {
    "collapsed": true
   },
   "outputs": [],
   "source": []
  },
  {
   "cell_type": "code",
   "execution_count": null,
   "metadata": {
    "collapsed": true
   },
   "outputs": [],
   "source": []
  },
  {
   "cell_type": "markdown",
   "metadata": {},
   "source": [
    "<div class=\"alert alert-block alert-info\">\n",
    "<b>Task 4:</b>\n",
    "<br> \n",
    "1. Create a new class for another healthcare professional of your choice (i.e. Nurse, Paramedic, Physio, ...)<br />\n",
    "2. Think about what methods they might have and implement them<br />\n",
    "3. Test out your new class by making it interact with our existing <code>Doctor</code> and <code>Patient</code> classes.\n",
    "</div>"
   ]
  },
  {
   "cell_type": "markdown",
   "metadata": {
    "collapsed": true
   },
   "source": [
    "#### Notebook details\n",
    "<br>\n",
    "<i>Notebook created by <strong>Dr. Alan Davies</strong> with, <strong>Frances Hooley</strong> \n",
    "    \n",
    "\n",
    "Publish date: October 2020<br>\n",
    "Review date: October 2021</i>\n",
    "\n",
    "Please give your feedback using the button below:\n",
    "\n",
    "<a class=\"typeform-share button\" href=\"https://form.typeform.com/to/YMpwLTNy\" data-mode=\"popup\" style=\"display:inline-block;text-decoration:none;background-color:#3A7685;color:white;cursor:pointer;font-family:Helvetica,Arial,sans-serif;font-size:18px;line-height:45px;text-align:center;margin:0;height:45px;padding:0px 30px;border-radius:22px;max-width:100%;white-space:nowrap;overflow:hidden;text-overflow:ellipsis;font-weight:bold;-webkit-font-smoothing:antialiased;-moz-osx-font-smoothing:grayscale;\" target=\"_blank\">Rate this notebook </a> <script> (function() { var qs,js,q,s,d=document, gi=d.getElementById, ce=d.createElement, gt=d.getElementsByTagName, id=\"typef_orm_share\", b=\"https://embed.typeform.com/\"; if(!gi.call(d,id)){ js=ce.call(d,\"script\"); js.id=id; js.src=b+\"embed.js\"; q=gt.call(d,\"script\")[0]; q.parentNode.insertBefore(js,q) } })() </script>"
   ]
  },
  {
   "cell_type": "code",
   "execution_count": null,
   "metadata": {},
   "outputs": [],
   "source": []
  }
 ],
 "metadata": {
  "hide_input": false,
  "kernelspec": {
   "display_name": "Python 3",
   "language": "python",
   "name": "python3"
  },
  "language_info": {
   "codemirror_mode": {
    "name": "ipython",
    "version": 3
   },
   "file_extension": ".py",
   "mimetype": "text/x-python",
   "name": "python",
   "nbconvert_exporter": "python",
   "pygments_lexer": "ipython3",
   "version": "3.7.3"
  }
 },
 "nbformat": 4,
 "nbformat_minor": 2
}
